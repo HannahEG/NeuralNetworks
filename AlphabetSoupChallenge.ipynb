{
 "cells": [
  {
   "cell_type": "code",
   "execution_count": 35,
   "metadata": {},
   "outputs": [
    {
     "output_type": "execute_result",
     "data": {
      "text/plain": "        EIN                                      NAME APPLICATION_TYPE  \\\n0  10520599              BLUE KNIGHTS MOTORCYCLE CLUB              T10   \n1  10531628    AMERICAN CHESAPEAKE CLUB CHARITABLE TR               T3   \n2  10547893        ST CLOUD PROFESSIONAL FIREFIGHTERS               T5   \n3  10553066            SOUTHSIDE ATHLETIC ASSOCIATION               T3   \n4  10556103  GENETIC RESEARCH INSTITUTE OF THE DESERT               T3   \n\n        AFFILIATION CLASSIFICATION      USE_CASE  ORGANIZATION  STATUS  \\\n0       Independent          C1000    ProductDev   Association       1   \n1       Independent          C2000  Preservation  Co-operative       1   \n2  CompanySponsored          C3000    ProductDev   Association       1   \n3  CompanySponsored          C2000  Preservation         Trust       1   \n4       Independent          C1000     Heathcare         Trust       1   \n\n      INCOME_AMT SPECIAL_CONSIDERATIONS  ASK_AMT  IS_SUCCESSFUL  \n0              0                      N     5000              1  \n1         1-9999                      N   108590              1  \n2              0                      N     5000              0  \n3    10000-24999                      N     6692              1  \n4  100000-499999                      N   142590              1  ",
      "text/html": "<div>\n<style scoped>\n    .dataframe tbody tr th:only-of-type {\n        vertical-align: middle;\n    }\n\n    .dataframe tbody tr th {\n        vertical-align: top;\n    }\n\n    .dataframe thead th {\n        text-align: right;\n    }\n</style>\n<table border=\"1\" class=\"dataframe\">\n  <thead>\n    <tr style=\"text-align: right;\">\n      <th></th>\n      <th>EIN</th>\n      <th>NAME</th>\n      <th>APPLICATION_TYPE</th>\n      <th>AFFILIATION</th>\n      <th>CLASSIFICATION</th>\n      <th>USE_CASE</th>\n      <th>ORGANIZATION</th>\n      <th>STATUS</th>\n      <th>INCOME_AMT</th>\n      <th>SPECIAL_CONSIDERATIONS</th>\n      <th>ASK_AMT</th>\n      <th>IS_SUCCESSFUL</th>\n    </tr>\n  </thead>\n  <tbody>\n    <tr>\n      <th>0</th>\n      <td>10520599</td>\n      <td>BLUE KNIGHTS MOTORCYCLE CLUB</td>\n      <td>T10</td>\n      <td>Independent</td>\n      <td>C1000</td>\n      <td>ProductDev</td>\n      <td>Association</td>\n      <td>1</td>\n      <td>0</td>\n      <td>N</td>\n      <td>5000</td>\n      <td>1</td>\n    </tr>\n    <tr>\n      <th>1</th>\n      <td>10531628</td>\n      <td>AMERICAN CHESAPEAKE CLUB CHARITABLE TR</td>\n      <td>T3</td>\n      <td>Independent</td>\n      <td>C2000</td>\n      <td>Preservation</td>\n      <td>Co-operative</td>\n      <td>1</td>\n      <td>1-9999</td>\n      <td>N</td>\n      <td>108590</td>\n      <td>1</td>\n    </tr>\n    <tr>\n      <th>2</th>\n      <td>10547893</td>\n      <td>ST CLOUD PROFESSIONAL FIREFIGHTERS</td>\n      <td>T5</td>\n      <td>CompanySponsored</td>\n      <td>C3000</td>\n      <td>ProductDev</td>\n      <td>Association</td>\n      <td>1</td>\n      <td>0</td>\n      <td>N</td>\n      <td>5000</td>\n      <td>0</td>\n    </tr>\n    <tr>\n      <th>3</th>\n      <td>10553066</td>\n      <td>SOUTHSIDE ATHLETIC ASSOCIATION</td>\n      <td>T3</td>\n      <td>CompanySponsored</td>\n      <td>C2000</td>\n      <td>Preservation</td>\n      <td>Trust</td>\n      <td>1</td>\n      <td>10000-24999</td>\n      <td>N</td>\n      <td>6692</td>\n      <td>1</td>\n    </tr>\n    <tr>\n      <th>4</th>\n      <td>10556103</td>\n      <td>GENETIC RESEARCH INSTITUTE OF THE DESERT</td>\n      <td>T3</td>\n      <td>Independent</td>\n      <td>C1000</td>\n      <td>Heathcare</td>\n      <td>Trust</td>\n      <td>1</td>\n      <td>100000-499999</td>\n      <td>N</td>\n      <td>142590</td>\n      <td>1</td>\n    </tr>\n  </tbody>\n</table>\n</div>"
     },
     "metadata": {},
     "execution_count": 35
    }
   ],
   "source": [
    "# Import our dependencies\n",
    "from sklearn.model_selection import train_test_split\n",
    "from sklearn.preprocessing import StandardScaler\n",
    "from sklearn.linear_model import LogisticRegression\n",
    "from sklearn.metrics import accuracy_score\n",
    "import pandas as pd\n",
    "import tensorflow as tf\n",
    "from sklearn.preprocessing import OneHotEncoder\n",
    "\n",
    "\n",
    "\n",
    "# Import our input dataset\n",
    "charities_df = pd.read_csv('charity_data.csv')\n",
    "charities_df.head()"
   ]
  },
  {
   "cell_type": "code",
   "execution_count": 36,
   "metadata": {},
   "outputs": [
    {
     "output_type": "execute_result",
     "data": {
      "text/plain": "34299"
     },
     "metadata": {},
     "execution_count": 36
    }
   ],
   "source": [
    "len(charities_df)"
   ]
  },
  {
   "cell_type": "code",
   "execution_count": 37,
   "metadata": {},
   "outputs": [],
   "source": [
    "# Make copy of dataframe and drop unnecessary columns\n",
    "charities = charities_df.copy()\n",
    "charities = charities.drop(columns=['EIN', 'NAME'])\n"
   ]
  },
  {
   "cell_type": "code",
   "execution_count": 38,
   "metadata": {},
   "outputs": [
    {
     "output_type": "execute_result",
     "data": {
      "text/plain": "      APPLICATION_TYPE       AFFILIATION CLASSIFICATION      USE_CASE  \\\n0                  T10       Independent          C1000    ProductDev   \n1                   T3       Independent          C2000  Preservation   \n2                   T5  CompanySponsored          C3000    ProductDev   \n3                   T3  CompanySponsored          C2000  Preservation   \n4                   T3       Independent          C1000     Heathcare   \n...                ...               ...            ...           ...   \n34294               T4       Independent          C1000    ProductDev   \n34295               T4  CompanySponsored          C3000    ProductDev   \n34296               T3  CompanySponsored          C2000  Preservation   \n34297               T5       Independent          C3000    ProductDev   \n34298               T3       Independent          C1000  Preservation   \n\n       ORGANIZATION  STATUS     INCOME_AMT SPECIAL_CONSIDERATIONS   ASK_AMT  \\\n0       Association       1              0                      N      5000   \n1      Co-operative       1         1-9999                      N    108590   \n2       Association       1              0                      N      5000   \n3             Trust       1    10000-24999                      N      6692   \n4             Trust       1  100000-499999                      N    142590   \n...             ...     ...            ...                    ...       ...   \n34294   Association       1              0                      N      5000   \n34295   Association       1              0                      N      5000   \n34296   Association       1              0                      N      5000   \n34297   Association       1              0                      N      5000   \n34298  Co-operative       1          1M-5M                      N  36500179   \n\n       IS_SUCCESSFUL  \n0                  1  \n1                  1  \n2                  0  \n3                  1  \n4                  1  \n...              ...  \n34294              0  \n34295              0  \n34296              0  \n34297              1  \n34298              0  \n\n[34299 rows x 10 columns]",
      "text/html": "<div>\n<style scoped>\n    .dataframe tbody tr th:only-of-type {\n        vertical-align: middle;\n    }\n\n    .dataframe tbody tr th {\n        vertical-align: top;\n    }\n\n    .dataframe thead th {\n        text-align: right;\n    }\n</style>\n<table border=\"1\" class=\"dataframe\">\n  <thead>\n    <tr style=\"text-align: right;\">\n      <th></th>\n      <th>APPLICATION_TYPE</th>\n      <th>AFFILIATION</th>\n      <th>CLASSIFICATION</th>\n      <th>USE_CASE</th>\n      <th>ORGANIZATION</th>\n      <th>STATUS</th>\n      <th>INCOME_AMT</th>\n      <th>SPECIAL_CONSIDERATIONS</th>\n      <th>ASK_AMT</th>\n      <th>IS_SUCCESSFUL</th>\n    </tr>\n  </thead>\n  <tbody>\n    <tr>\n      <th>0</th>\n      <td>T10</td>\n      <td>Independent</td>\n      <td>C1000</td>\n      <td>ProductDev</td>\n      <td>Association</td>\n      <td>1</td>\n      <td>0</td>\n      <td>N</td>\n      <td>5000</td>\n      <td>1</td>\n    </tr>\n    <tr>\n      <th>1</th>\n      <td>T3</td>\n      <td>Independent</td>\n      <td>C2000</td>\n      <td>Preservation</td>\n      <td>Co-operative</td>\n      <td>1</td>\n      <td>1-9999</td>\n      <td>N</td>\n      <td>108590</td>\n      <td>1</td>\n    </tr>\n    <tr>\n      <th>2</th>\n      <td>T5</td>\n      <td>CompanySponsored</td>\n      <td>C3000</td>\n      <td>ProductDev</td>\n      <td>Association</td>\n      <td>1</td>\n      <td>0</td>\n      <td>N</td>\n      <td>5000</td>\n      <td>0</td>\n    </tr>\n    <tr>\n      <th>3</th>\n      <td>T3</td>\n      <td>CompanySponsored</td>\n      <td>C2000</td>\n      <td>Preservation</td>\n      <td>Trust</td>\n      <td>1</td>\n      <td>10000-24999</td>\n      <td>N</td>\n      <td>6692</td>\n      <td>1</td>\n    </tr>\n    <tr>\n      <th>4</th>\n      <td>T3</td>\n      <td>Independent</td>\n      <td>C1000</td>\n      <td>Heathcare</td>\n      <td>Trust</td>\n      <td>1</td>\n      <td>100000-499999</td>\n      <td>N</td>\n      <td>142590</td>\n      <td>1</td>\n    </tr>\n    <tr>\n      <th>...</th>\n      <td>...</td>\n      <td>...</td>\n      <td>...</td>\n      <td>...</td>\n      <td>...</td>\n      <td>...</td>\n      <td>...</td>\n      <td>...</td>\n      <td>...</td>\n      <td>...</td>\n    </tr>\n    <tr>\n      <th>34294</th>\n      <td>T4</td>\n      <td>Independent</td>\n      <td>C1000</td>\n      <td>ProductDev</td>\n      <td>Association</td>\n      <td>1</td>\n      <td>0</td>\n      <td>N</td>\n      <td>5000</td>\n      <td>0</td>\n    </tr>\n    <tr>\n      <th>34295</th>\n      <td>T4</td>\n      <td>CompanySponsored</td>\n      <td>C3000</td>\n      <td>ProductDev</td>\n      <td>Association</td>\n      <td>1</td>\n      <td>0</td>\n      <td>N</td>\n      <td>5000</td>\n      <td>0</td>\n    </tr>\n    <tr>\n      <th>34296</th>\n      <td>T3</td>\n      <td>CompanySponsored</td>\n      <td>C2000</td>\n      <td>Preservation</td>\n      <td>Association</td>\n      <td>1</td>\n      <td>0</td>\n      <td>N</td>\n      <td>5000</td>\n      <td>0</td>\n    </tr>\n    <tr>\n      <th>34297</th>\n      <td>T5</td>\n      <td>Independent</td>\n      <td>C3000</td>\n      <td>ProductDev</td>\n      <td>Association</td>\n      <td>1</td>\n      <td>0</td>\n      <td>N</td>\n      <td>5000</td>\n      <td>1</td>\n    </tr>\n    <tr>\n      <th>34298</th>\n      <td>T3</td>\n      <td>Independent</td>\n      <td>C1000</td>\n      <td>Preservation</td>\n      <td>Co-operative</td>\n      <td>1</td>\n      <td>1M-5M</td>\n      <td>N</td>\n      <td>36500179</td>\n      <td>0</td>\n    </tr>\n  </tbody>\n</table>\n<p>34299 rows × 10 columns</p>\n</div>"
     },
     "metadata": {},
     "execution_count": 38
    }
   ],
   "source": [
    "charities"
   ]
  },
  {
   "cell_type": "code",
   "execution_count": 39,
   "metadata": {},
   "outputs": [
    {
     "output_type": "execute_result",
     "data": {
      "text/plain": "APPLICATION_TYPE          17\nAFFILIATION                6\nCLASSIFICATION            71\nUSE_CASE                   5\nORGANIZATION               4\nINCOME_AMT                 9\nSPECIAL_CONSIDERATIONS     2\ndtype: int64"
     },
     "metadata": {},
     "execution_count": 39
    }
   ],
   "source": [
    "# Generate our categorical variable list\n",
    "charities_cat = charities.dtypes[charities.dtypes == \"object\"].index.tolist()\n",
    "\n",
    "# Check the number of unique values in each column\n",
    "charities[charities_cat].nunique()"
   ]
  },
  {
   "cell_type": "code",
   "execution_count": 9,
   "metadata": {},
   "outputs": [
    {
     "output_type": "execute_result",
     "data": {
      "text/plain": "T3     27037\nT4      1542\nT6      1216\nT5      1173\nT19     1065\nT8       737\nT7       725\nT10      528\nT9       156\nT13       66\nT12       27\nT2        16\nT14        3\nT25        3\nT15        2\nT29        2\nT17        1\nName: APPLICATION_TYPE, dtype: int64"
     },
     "metadata": {},
     "execution_count": 9
    }
   ],
   "source": [
    "# Check the unique value counts to see if binning is required\n",
    "application_df = charities.APPLICATION_TYPE.value_counts()\n",
    "application_df"
   ]
  },
  {
   "cell_type": "code",
   "execution_count": 40,
   "metadata": {},
   "outputs": [
    {
     "output_type": "execute_result",
     "data": {
      "text/plain": "T3       27037\nT4        1542\nT6        1216\nT5        1173\nT19       1065\nT8         737\nT7         725\nT10        528\nT9         156\nOther      120\nName: APPLICATION_TYPE, dtype: int64"
     },
     "metadata": {},
     "execution_count": 40
    }
   ],
   "source": [
    "# Determine which values to replace\n",
    "replace_applicationtype = list(application_df[application_df < 100].index)\n",
    "\n",
    "# Replace in DataFrame\n",
    "for application in replace_applicationtype:\n",
    "    charities.APPLICATION_TYPE = charities.APPLICATION_TYPE.replace(application,\"Other\")\n",
    "\n",
    "\n",
    "# Check to make sure binning was successful\n",
    "charities.APPLICATION_TYPE.value_counts()"
   ]
  },
  {
   "cell_type": "code",
   "execution_count": 11,
   "metadata": {},
   "outputs": [
    {
     "output_type": "execute_result",
     "data": {
      "text/plain": "C1000    17326\nC2000     6074\nC1200     4837\nC3000     1918\nC2100     1883\nC7000      777\nC1700      287\nC4000      194\nC5000      116\nC1270      114\nC2700      104\nC2800       95\nC7100       75\nC1300       58\nC1280       50\nC1230       36\nC1400       34\nC7200       32\nC2300       32\nC1240       30\nC8000       20\nC7120       18\nC1500       16\nC6000       15\nC1800       15\nC1250       14\nC8200       11\nC1278       10\nC1238       10\nC1237        9\nC1235        9\nC7210        7\nC4100        6\nC1720        6\nC2400        6\nC1600        5\nC1257        5\nC1260        3\nC0           3\nC2710        3\nC1267        2\nC3200        2\nC1256        2\nC1234        2\nC1246        2\nC1248        1\nC1900        1\nC2570        1\nC6100        1\nC4120        1\nName: CLASSIFICATION, dtype: int64"
     },
     "metadata": {},
     "execution_count": 11
    }
   ],
   "source": [
    "# Check the unique value counts to see if binning is required\n",
    "classification_df = charities.CLASSIFICATION.value_counts()\n",
    "classification_df.head(50)"
   ]
  },
  {
   "cell_type": "code",
   "execution_count": 41,
   "metadata": {},
   "outputs": [
    {
     "output_type": "execute_result",
     "data": {
      "text/plain": "C1000    17326\nC2000     6074\nC1200     4837\nC3000     1918\nC2100     1883\nOther     1484\nC7000      777\nName: CLASSIFICATION, dtype: int64"
     },
     "metadata": {},
     "execution_count": 41
    }
   ],
   "source": [
    "# Determine which values to replace\n",
    "replace_classification = list(classification_df[classification_df < 700].index)\n",
    "\n",
    "# Replace in DataFrame\n",
    "for classifier in replace_classification:\n",
    "    charities.CLASSIFICATION = charities.CLASSIFICATION.replace(classifier,\"Other\")\n",
    "\n",
    "\n",
    "# Check to make sure binning was successful\n",
    "charities.CLASSIFICATION.value_counts()"
   ]
  },
  {
   "cell_type": "code",
   "execution_count": 42,
   "metadata": {},
   "outputs": [
    {
     "output_type": "execute_result",
     "data": {
      "text/plain": "   APPLICATION_TYPE_Other  APPLICATION_TYPE_T10  APPLICATION_TYPE_T19  \\\n0                     0.0                   1.0                   0.0   \n1                     0.0                   0.0                   0.0   \n2                     0.0                   0.0                   0.0   \n3                     0.0                   0.0                   0.0   \n4                     0.0                   0.0                   0.0   \n\n   APPLICATION_TYPE_T3  APPLICATION_TYPE_T4  APPLICATION_TYPE_T5  \\\n0                  0.0                  0.0                  0.0   \n1                  1.0                  0.0                  0.0   \n2                  0.0                  0.0                  1.0   \n3                  1.0                  0.0                  0.0   \n4                  1.0                  0.0                  0.0   \n\n   APPLICATION_TYPE_T6  APPLICATION_TYPE_T7  APPLICATION_TYPE_T8  \\\n0                  0.0                  0.0                  0.0   \n1                  0.0                  0.0                  0.0   \n2                  0.0                  0.0                  0.0   \n3                  0.0                  0.0                  0.0   \n4                  0.0                  0.0                  0.0   \n\n   APPLICATION_TYPE_T9  ...  INCOME_AMT_1-9999  INCOME_AMT_10000-24999  \\\n0                  0.0  ...                0.0                     0.0   \n1                  0.0  ...                1.0                     0.0   \n2                  0.0  ...                0.0                     0.0   \n3                  0.0  ...                0.0                     1.0   \n4                  0.0  ...                0.0                     0.0   \n\n   INCOME_AMT_100000-499999  INCOME_AMT_10M-50M  INCOME_AMT_1M-5M  \\\n0                       0.0                 0.0               0.0   \n1                       0.0                 0.0               0.0   \n2                       0.0                 0.0               0.0   \n3                       0.0                 0.0               0.0   \n4                       1.0                 0.0               0.0   \n\n   INCOME_AMT_25000-99999  INCOME_AMT_50M+  INCOME_AMT_5M-10M  \\\n0                     0.0              0.0                0.0   \n1                     0.0              0.0                0.0   \n2                     0.0              0.0                0.0   \n3                     0.0              0.0                0.0   \n4                     0.0              0.0                0.0   \n\n   SPECIAL_CONSIDERATIONS_N  SPECIAL_CONSIDERATIONS_Y  \n0                       1.0                       0.0  \n1                       1.0                       0.0  \n2                       1.0                       0.0  \n3                       1.0                       0.0  \n4                       1.0                       0.0  \n\n[5 rows x 43 columns]",
      "text/html": "<div>\n<style scoped>\n    .dataframe tbody tr th:only-of-type {\n        vertical-align: middle;\n    }\n\n    .dataframe tbody tr th {\n        vertical-align: top;\n    }\n\n    .dataframe thead th {\n        text-align: right;\n    }\n</style>\n<table border=\"1\" class=\"dataframe\">\n  <thead>\n    <tr style=\"text-align: right;\">\n      <th></th>\n      <th>APPLICATION_TYPE_Other</th>\n      <th>APPLICATION_TYPE_T10</th>\n      <th>APPLICATION_TYPE_T19</th>\n      <th>APPLICATION_TYPE_T3</th>\n      <th>APPLICATION_TYPE_T4</th>\n      <th>APPLICATION_TYPE_T5</th>\n      <th>APPLICATION_TYPE_T6</th>\n      <th>APPLICATION_TYPE_T7</th>\n      <th>APPLICATION_TYPE_T8</th>\n      <th>APPLICATION_TYPE_T9</th>\n      <th>...</th>\n      <th>INCOME_AMT_1-9999</th>\n      <th>INCOME_AMT_10000-24999</th>\n      <th>INCOME_AMT_100000-499999</th>\n      <th>INCOME_AMT_10M-50M</th>\n      <th>INCOME_AMT_1M-5M</th>\n      <th>INCOME_AMT_25000-99999</th>\n      <th>INCOME_AMT_50M+</th>\n      <th>INCOME_AMT_5M-10M</th>\n      <th>SPECIAL_CONSIDERATIONS_N</th>\n      <th>SPECIAL_CONSIDERATIONS_Y</th>\n    </tr>\n  </thead>\n  <tbody>\n    <tr>\n      <th>0</th>\n      <td>0.0</td>\n      <td>1.0</td>\n      <td>0.0</td>\n      <td>0.0</td>\n      <td>0.0</td>\n      <td>0.0</td>\n      <td>0.0</td>\n      <td>0.0</td>\n      <td>0.0</td>\n      <td>0.0</td>\n      <td>...</td>\n      <td>0.0</td>\n      <td>0.0</td>\n      <td>0.0</td>\n      <td>0.0</td>\n      <td>0.0</td>\n      <td>0.0</td>\n      <td>0.0</td>\n      <td>0.0</td>\n      <td>1.0</td>\n      <td>0.0</td>\n    </tr>\n    <tr>\n      <th>1</th>\n      <td>0.0</td>\n      <td>0.0</td>\n      <td>0.0</td>\n      <td>1.0</td>\n      <td>0.0</td>\n      <td>0.0</td>\n      <td>0.0</td>\n      <td>0.0</td>\n      <td>0.0</td>\n      <td>0.0</td>\n      <td>...</td>\n      <td>1.0</td>\n      <td>0.0</td>\n      <td>0.0</td>\n      <td>0.0</td>\n      <td>0.0</td>\n      <td>0.0</td>\n      <td>0.0</td>\n      <td>0.0</td>\n      <td>1.0</td>\n      <td>0.0</td>\n    </tr>\n    <tr>\n      <th>2</th>\n      <td>0.0</td>\n      <td>0.0</td>\n      <td>0.0</td>\n      <td>0.0</td>\n      <td>0.0</td>\n      <td>1.0</td>\n      <td>0.0</td>\n      <td>0.0</td>\n      <td>0.0</td>\n      <td>0.0</td>\n      <td>...</td>\n      <td>0.0</td>\n      <td>0.0</td>\n      <td>0.0</td>\n      <td>0.0</td>\n      <td>0.0</td>\n      <td>0.0</td>\n      <td>0.0</td>\n      <td>0.0</td>\n      <td>1.0</td>\n      <td>0.0</td>\n    </tr>\n    <tr>\n      <th>3</th>\n      <td>0.0</td>\n      <td>0.0</td>\n      <td>0.0</td>\n      <td>1.0</td>\n      <td>0.0</td>\n      <td>0.0</td>\n      <td>0.0</td>\n      <td>0.0</td>\n      <td>0.0</td>\n      <td>0.0</td>\n      <td>...</td>\n      <td>0.0</td>\n      <td>1.0</td>\n      <td>0.0</td>\n      <td>0.0</td>\n      <td>0.0</td>\n      <td>0.0</td>\n      <td>0.0</td>\n      <td>0.0</td>\n      <td>1.0</td>\n      <td>0.0</td>\n    </tr>\n    <tr>\n      <th>4</th>\n      <td>0.0</td>\n      <td>0.0</td>\n      <td>0.0</td>\n      <td>1.0</td>\n      <td>0.0</td>\n      <td>0.0</td>\n      <td>0.0</td>\n      <td>0.0</td>\n      <td>0.0</td>\n      <td>0.0</td>\n      <td>...</td>\n      <td>0.0</td>\n      <td>0.0</td>\n      <td>1.0</td>\n      <td>0.0</td>\n      <td>0.0</td>\n      <td>0.0</td>\n      <td>0.0</td>\n      <td>0.0</td>\n      <td>1.0</td>\n      <td>0.0</td>\n    </tr>\n  </tbody>\n</table>\n<p>5 rows × 43 columns</p>\n</div>"
     },
     "metadata": {},
     "execution_count": 42
    }
   ],
   "source": [
    "# Create a OneHotEncoder instance\n",
    "enc = OneHotEncoder(sparse=False)\n",
    "\n",
    "# Fit and transform the OneHotEncoder using the categorical variable list\n",
    "encode_df = pd.DataFrame(enc.fit_transform(charities[charities_cat]))\n",
    "\n",
    "# Add the encoded variable names to the DataFrame\n",
    "encode_df.columns = enc.get_feature_names(charities_cat)\n",
    "encode_df.head()"
   ]
  },
  {
   "cell_type": "code",
   "execution_count": 43,
   "metadata": {},
   "outputs": [
    {
     "output_type": "execute_result",
     "data": {
      "text/plain": "34299"
     },
     "metadata": {},
     "execution_count": 43
    }
   ],
   "source": [
    "len(encode_df)"
   ]
  },
  {
   "cell_type": "code",
   "execution_count": 44,
   "metadata": {},
   "outputs": [
    {
     "output_type": "execute_result",
     "data": {
      "text/plain": "   STATUS  ASK_AMT  IS_SUCCESSFUL  APPLICATION_TYPE_Other  \\\n0       1     5000              1                     0.0   \n1       1   108590              1                     0.0   \n2       1     5000              0                     0.0   \n3       1     6692              1                     0.0   \n4       1   142590              1                     0.0   \n\n   APPLICATION_TYPE_T10  APPLICATION_TYPE_T19  APPLICATION_TYPE_T3  \\\n0                   1.0                   0.0                  0.0   \n1                   0.0                   0.0                  1.0   \n2                   0.0                   0.0                  0.0   \n3                   0.0                   0.0                  1.0   \n4                   0.0                   0.0                  1.0   \n\n   APPLICATION_TYPE_T4  APPLICATION_TYPE_T5  APPLICATION_TYPE_T6  ...  \\\n0                  0.0                  0.0                  0.0  ...   \n1                  0.0                  0.0                  0.0  ...   \n2                  0.0                  1.0                  0.0  ...   \n3                  0.0                  0.0                  0.0  ...   \n4                  0.0                  0.0                  0.0  ...   \n\n   INCOME_AMT_1-9999  INCOME_AMT_10000-24999  INCOME_AMT_100000-499999  \\\n0                0.0                     0.0                       0.0   \n1                1.0                     0.0                       0.0   \n2                0.0                     0.0                       0.0   \n3                0.0                     1.0                       0.0   \n4                0.0                     0.0                       1.0   \n\n   INCOME_AMT_10M-50M  INCOME_AMT_1M-5M  INCOME_AMT_25000-99999  \\\n0                 0.0               0.0                     0.0   \n1                 0.0               0.0                     0.0   \n2                 0.0               0.0                     0.0   \n3                 0.0               0.0                     0.0   \n4                 0.0               0.0                     0.0   \n\n   INCOME_AMT_50M+  INCOME_AMT_5M-10M  SPECIAL_CONSIDERATIONS_N  \\\n0              0.0                0.0                       1.0   \n1              0.0                0.0                       1.0   \n2              0.0                0.0                       1.0   \n3              0.0                0.0                       1.0   \n4              0.0                0.0                       1.0   \n\n   SPECIAL_CONSIDERATIONS_Y  \n0                       0.0  \n1                       0.0  \n2                       0.0  \n3                       0.0  \n4                       0.0  \n\n[5 rows x 46 columns]",
      "text/html": "<div>\n<style scoped>\n    .dataframe tbody tr th:only-of-type {\n        vertical-align: middle;\n    }\n\n    .dataframe tbody tr th {\n        vertical-align: top;\n    }\n\n    .dataframe thead th {\n        text-align: right;\n    }\n</style>\n<table border=\"1\" class=\"dataframe\">\n  <thead>\n    <tr style=\"text-align: right;\">\n      <th></th>\n      <th>STATUS</th>\n      <th>ASK_AMT</th>\n      <th>IS_SUCCESSFUL</th>\n      <th>APPLICATION_TYPE_Other</th>\n      <th>APPLICATION_TYPE_T10</th>\n      <th>APPLICATION_TYPE_T19</th>\n      <th>APPLICATION_TYPE_T3</th>\n      <th>APPLICATION_TYPE_T4</th>\n      <th>APPLICATION_TYPE_T5</th>\n      <th>APPLICATION_TYPE_T6</th>\n      <th>...</th>\n      <th>INCOME_AMT_1-9999</th>\n      <th>INCOME_AMT_10000-24999</th>\n      <th>INCOME_AMT_100000-499999</th>\n      <th>INCOME_AMT_10M-50M</th>\n      <th>INCOME_AMT_1M-5M</th>\n      <th>INCOME_AMT_25000-99999</th>\n      <th>INCOME_AMT_50M+</th>\n      <th>INCOME_AMT_5M-10M</th>\n      <th>SPECIAL_CONSIDERATIONS_N</th>\n      <th>SPECIAL_CONSIDERATIONS_Y</th>\n    </tr>\n  </thead>\n  <tbody>\n    <tr>\n      <th>0</th>\n      <td>1</td>\n      <td>5000</td>\n      <td>1</td>\n      <td>0.0</td>\n      <td>1.0</td>\n      <td>0.0</td>\n      <td>0.0</td>\n      <td>0.0</td>\n      <td>0.0</td>\n      <td>0.0</td>\n      <td>...</td>\n      <td>0.0</td>\n      <td>0.0</td>\n      <td>0.0</td>\n      <td>0.0</td>\n      <td>0.0</td>\n      <td>0.0</td>\n      <td>0.0</td>\n      <td>0.0</td>\n      <td>1.0</td>\n      <td>0.0</td>\n    </tr>\n    <tr>\n      <th>1</th>\n      <td>1</td>\n      <td>108590</td>\n      <td>1</td>\n      <td>0.0</td>\n      <td>0.0</td>\n      <td>0.0</td>\n      <td>1.0</td>\n      <td>0.0</td>\n      <td>0.0</td>\n      <td>0.0</td>\n      <td>...</td>\n      <td>1.0</td>\n      <td>0.0</td>\n      <td>0.0</td>\n      <td>0.0</td>\n      <td>0.0</td>\n      <td>0.0</td>\n      <td>0.0</td>\n      <td>0.0</td>\n      <td>1.0</td>\n      <td>0.0</td>\n    </tr>\n    <tr>\n      <th>2</th>\n      <td>1</td>\n      <td>5000</td>\n      <td>0</td>\n      <td>0.0</td>\n      <td>0.0</td>\n      <td>0.0</td>\n      <td>0.0</td>\n      <td>0.0</td>\n      <td>1.0</td>\n      <td>0.0</td>\n      <td>...</td>\n      <td>0.0</td>\n      <td>0.0</td>\n      <td>0.0</td>\n      <td>0.0</td>\n      <td>0.0</td>\n      <td>0.0</td>\n      <td>0.0</td>\n      <td>0.0</td>\n      <td>1.0</td>\n      <td>0.0</td>\n    </tr>\n    <tr>\n      <th>3</th>\n      <td>1</td>\n      <td>6692</td>\n      <td>1</td>\n      <td>0.0</td>\n      <td>0.0</td>\n      <td>0.0</td>\n      <td>1.0</td>\n      <td>0.0</td>\n      <td>0.0</td>\n      <td>0.0</td>\n      <td>...</td>\n      <td>0.0</td>\n      <td>1.0</td>\n      <td>0.0</td>\n      <td>0.0</td>\n      <td>0.0</td>\n      <td>0.0</td>\n      <td>0.0</td>\n      <td>0.0</td>\n      <td>1.0</td>\n      <td>0.0</td>\n    </tr>\n    <tr>\n      <th>4</th>\n      <td>1</td>\n      <td>142590</td>\n      <td>1</td>\n      <td>0.0</td>\n      <td>0.0</td>\n      <td>0.0</td>\n      <td>1.0</td>\n      <td>0.0</td>\n      <td>0.0</td>\n      <td>0.0</td>\n      <td>...</td>\n      <td>0.0</td>\n      <td>0.0</td>\n      <td>1.0</td>\n      <td>0.0</td>\n      <td>0.0</td>\n      <td>0.0</td>\n      <td>0.0</td>\n      <td>0.0</td>\n      <td>1.0</td>\n      <td>0.0</td>\n    </tr>\n  </tbody>\n</table>\n<p>5 rows × 46 columns</p>\n</div>"
     },
     "metadata": {},
     "execution_count": 44
    }
   ],
   "source": [
    "# Merge one-hot encoded features and drop the originals\n",
    "charities = charities.merge(encode_df,left_index=True, right_index=True)\n",
    "charities = charities.drop(charities_cat,1)\n",
    "charities.head()"
   ]
  },
  {
   "cell_type": "code",
   "execution_count": 45,
   "metadata": {},
   "outputs": [],
   "source": [
    "# Remove successful status target from features data\n",
    "y = charities.IS_SUCCESSFUL\n",
    "X = charities.drop(columns=[\"IS_SUCCESSFUL\"])\n",
    "\n",
    "# Split training/test datasets\n",
    "X_train, X_test, y_train, y_test = train_test_split(X, y, random_state=42, stratify=y)\n",
    "\n",
    "# Create a StandardScaler instance\n",
    "scaler = StandardScaler()\n",
    "\n",
    "# Fit the StandardScaler\n",
    "X_scaler = scaler.fit(X_train)\n",
    "\n",
    "# Scale the data\n",
    "X_train_scaled = X_scaler.transform(X_train)\n",
    "X_test_scaled = X_scaler.transform(X_test)"
   ]
  },
  {
   "cell_type": "code",
   "execution_count": 47,
   "metadata": {},
   "outputs": [],
   "source": [
    "# Define the model - deep neural net\n",
    "number_input_features = len(X_train_scaled[0])\n",
    "hidden_nodes_layer1 =  44\n",
    "hidden_nodes_layer2 = 22\n",
    "\n",
    "\n",
    "nn = tf.keras.models.Sequential()\n",
    "\n",
    "# First hidden layer\n",
    "nn.add(\n",
    "    tf.keras.layers.Dense(units=hidden_nodes_layer1, input_dim=number_input_features, activation=\"relu\")\n",
    ")\n",
    "\n",
    "# Second hidden layer\n",
    "nn.add(tf.keras.layers.Dense(units=hidden_nodes_layer2, activation=\"relu\"))\n",
    "\n",
    "\n",
    "# Third hidden layer\n",
    "# nn.add(tf.keras.layers.Dense(units=hidden_nodes_layer3, activation=\"relu\"))\n",
    "\n",
    "\n",
    "# Output layer\n",
    "nn.add(tf.keras.layers.Dense(units=1, activation=\"sigmoid\"))\n",
    "\n",
    "# Compile the Sequential model together and customize metrics\n",
    "nn.compile(loss=\"binary_crossentropy\", optimizer=\"adam\", metrics=[\"accuracy\"])"
   ]
  },
  {
   "cell_type": "code",
   "execution_count": 48,
   "metadata": {
    "tags": []
   },
   "outputs": [
    {
     "output_type": "stream",
     "name": "stdout",
     "text": "Model: \"sequential_4\"\n_________________________________________________________________\nLayer (type)                 Output Shape              Param #   \n=================================================================\ndense_13 (Dense)             (None, 44)                2024      \n_________________________________________________________________\ndense_14 (Dense)             (None, 22)                990       \n_________________________________________________________________\ndense_15 (Dense)             (None, 1)                 23        \n=================================================================\nTotal params: 3,037\nTrainable params: 3,037\nNon-trainable params: 0\n_________________________________________________________________\n"
    }
   ],
   "source": [
    "# Check the structure of the model\n",
    "nn.summary()"
   ]
  },
  {
   "cell_type": "code",
   "execution_count": 49,
   "metadata": {
    "tags": []
   },
   "outputs": [
    {
     "output_type": "stream",
     "name": "stdout",
     "text": "<class 'numpy.ndarray'> <class 'pandas.core.series.Series'> <class 'numpy.ndarray'> <class 'pandas.core.series.Series'>\n"
    }
   ],
   "source": [
    "# Check data types\n",
    "print(type(X_train_scaled),type(y_train),type(X_test_scaled),type(y_test))"
   ]
  },
  {
   "cell_type": "code",
   "execution_count": 50,
   "metadata": {},
   "outputs": [],
   "source": [
    "# Convert serires to ndarray\n",
    "import numpy as np \n",
    "\n",
    "y_train = np.array(y_train)\n",
    "y_test = np.array(y_test)"
   ]
  },
  {
   "cell_type": "code",
   "execution_count": 51,
   "metadata": {
    "tags": [
     "outputPrepend"
    ]
   },
   "outputs": [
    {
     "output_type": "stream",
     "name": "stdout",
     "text": "- accuracy: 0.7401\nEpoch 70/250\n25724/25724 [==============================] - 2s 71us/sample - loss: 0.5369 - accuracy: 0.7405\nEpoch 71/250\n25724/25724 [==============================] - 2s 75us/sample - loss: 0.5365 - accuracy: 0.7410\nEpoch 72/250\n25724/25724 [==============================] - 2s 76us/sample - loss: 0.5365 - accuracy: 0.7413\nEpoch 73/250\n25724/25724 [==============================] - 2s 74us/sample - loss: 0.5366 - accuracy: 0.7401\nEpoch 74/250\n25724/25724 [==============================] - 2s 80us/sample - loss: 0.5365 - accuracy: 0.7400\nEpoch 75/250\n25724/25724 [==============================] - 2s 75us/sample - loss: 0.5363 - accuracy: 0.7400\nEpoch 76/250\n25724/25724 [==============================] - 2s 73us/sample - loss: 0.5361 - accuracy: 0.7407\nEpoch 77/250\n25724/25724 [==============================] - 2s 69us/sample - loss: 0.5363 - accuracy: 0.7395\nEpoch 78/250\n25724/25724 [==============================] - 2s 68us/sample - loss: 0.5360 - accuracy: 0.7402\nEpoch 79/250\n25724/25724 [==============================] - 2s 66us/sample - loss: 0.5359 - accuracy: 0.7404\nEpoch 80/250\n25724/25724 [==============================] - 2s 66us/sample - loss: 0.5359 - accuracy: 0.7405\nEpoch 81/250\n25724/25724 [==============================] - 2s 65us/sample - loss: 0.5359 - accuracy: 0.7401\nEpoch 82/250\n25724/25724 [==============================] - 2s 65us/sample - loss: 0.5361 - accuracy: 0.7413\nEpoch 83/250\n25724/25724 [==============================] - 2s 66us/sample - loss: 0.5358 - accuracy: 0.7411\nEpoch 84/250\n25724/25724 [==============================] - 2s 68us/sample - loss: 0.5356 - accuracy: 0.7404\nEpoch 85/250\n25724/25724 [==============================] - 2s 69us/sample - loss: 0.5349 - accuracy: 0.7404\nEpoch 86/250\n25724/25724 [==============================] - 2s 70us/sample - loss: 0.5359 - accuracy: 0.7405\nEpoch 87/250\n25724/25724 [==============================] - 2s 68us/sample - loss: 0.5355 - accuracy: 0.7406\nEpoch 88/250\n25724/25724 [==============================] - 2s 67us/sample - loss: 0.5355 - accuracy: 0.7411\nEpoch 89/250\n25724/25724 [==============================] - 2s 64us/sample - loss: 0.5353 - accuracy: 0.7399\nEpoch 90/250\n25724/25724 [==============================] - 2s 63us/sample - loss: 0.5353 - accuracy: 0.7399\nEpoch 91/250\n25724/25724 [==============================] - 2s 65us/sample - loss: 0.5354 - accuracy: 0.7409\nEpoch 92/250\n25724/25724 [==============================] - 2s 64us/sample - loss: 0.5352 - accuracy: 0.7411\nEpoch 93/250\n25724/25724 [==============================] - 2s 64us/sample - loss: 0.5355 - accuracy: 0.7408\nEpoch 94/250\n25724/25724 [==============================] - 2s 65us/sample - loss: 0.5351 - accuracy: 0.7414\nEpoch 95/250\n25724/25724 [==============================] - 2s 64us/sample - loss: 0.5351 - accuracy: 0.7404\nEpoch 96/250\n25724/25724 [==============================] - 2s 67us/sample - loss: 0.5352 - accuracy: 0.7409\nEpoch 97/250\n25724/25724 [==============================] - 2s 68us/sample - loss: 0.5352 - accuracy: 0.7400\nEpoch 98/250\n25724/25724 [==============================] - 2s 69us/sample - loss: 0.5347 - accuracy: 0.7407\nEpoch 99/250\n25724/25724 [==============================] - 2s 69us/sample - loss: 0.5349 - accuracy: 0.7400\nEpoch 100/250\n25724/25724 [==============================] - 2s 71us/sample - loss: 0.5348 - accuracy: 0.7415\nEpoch 101/250\n25724/25724 [==============================] - 2s 69us/sample - loss: 0.5346 - accuracy: 0.7403\nEpoch 102/250\n25724/25724 [==============================] - 2s 68us/sample - loss: 0.5347 - accuracy: 0.7413\nEpoch 103/250\n25724/25724 [==============================] - 2s 69us/sample - loss: 0.5350 - accuracy: 0.7408\nEpoch 104/250\n25724/25724 [==============================] - 2s 68us/sample - loss: 0.5351 - accuracy: 0.7417\nEpoch 105/250\n25724/25724 [==============================] - 2s 68us/sample - loss: 0.5346 - accuracy: 0.7414\nEpoch 106/250\n25724/25724 [==============================] - 2s 67us/sample - loss: 0.5345 - accuracy: 0.7407\nEpoch 107/250\n25724/25724 [==============================] - 2s 67us/sample - loss: 0.5347 - accuracy: 0.7410\nEpoch 108/250\n25724/25724 [==============================] - 2s 65us/sample - loss: 0.5347 - accuracy: 0.7414\nEpoch 109/250\n25724/25724 [==============================] - 2s 65us/sample - loss: 0.5347 - accuracy: 0.7409\nEpoch 110/250\n25724/25724 [==============================] - 2s 63us/sample - loss: 0.5348 - accuracy: 0.7406\nEpoch 111/250\n25724/25724 [==============================] - 2s 65us/sample - loss: 0.5341 - accuracy: 0.7403\nEpoch 112/250\n25724/25724 [==============================] - 2s 68us/sample - loss: 0.5344 - accuracy: 0.7402\nEpoch 113/250\n25724/25724 [==============================] - 2s 68us/sample - loss: 0.5342 - accuracy: 0.7409\nEpoch 114/250\n25724/25724 [==============================] - 2s 69us/sample - loss: 0.5345 - accuracy: 0.7410\nEpoch 115/250\n25724/25724 [==============================] - 2s 70us/sample - loss: 0.5345 - accuracy: 0.7399\nEpoch 116/250\n25724/25724 [==============================] - 2s 71us/sample - loss: 0.5344 - accuracy: 0.7412\nEpoch 117/250\n25724/25724 [==============================] - 2s 69us/sample - loss: 0.5340 - accuracy: 0.7412\nEpoch 118/250\n25724/25724 [==============================] - 2s 68us/sample - loss: 0.5344 - accuracy: 0.7404\nEpoch 119/250\n25724/25724 [==============================] - 2s 68us/sample - loss: 0.5339 - accuracy: 0.7406\nEpoch 120/250\n25724/25724 [==============================] - 2s 67us/sample - loss: 0.5345 - accuracy: 0.7401\nEpoch 121/250\n25724/25724 [==============================] - 2s 67us/sample - loss: 0.5343 - accuracy: 0.7403\nEpoch 122/250\n25724/25724 [==============================] - 2s 67us/sample - loss: 0.5342 - accuracy: 0.7409\nEpoch 123/250\n25724/25724 [==============================] - 2s 64us/sample - loss: 0.5340 - accuracy: 0.7409\nEpoch 124/250\n25724/25724 [==============================] - 2s 65us/sample - loss: 0.5338 - accuracy: 0.7415\nEpoch 125/250\n25724/25724 [==============================] - 2s 65us/sample - loss: 0.5339 - accuracy: 0.7423\nEpoch 126/250\n25724/25724 [==============================] - 2s 66us/sample - loss: 0.5343 - accuracy: 0.7397\nEpoch 127/250\n25724/25724 [==============================] - 2s 68us/sample - loss: 0.5335 - accuracy: 0.7405\nEpoch 128/250\n25724/25724 [==============================] - 2s 68us/sample - loss: 0.5338 - accuracy: 0.7413\nEpoch 129/250\n25724/25724 [==============================] - 2s 69us/sample - loss: 0.5340 - accuracy: 0.7404\nEpoch 130/250\n25724/25724 [==============================] - 2s 69us/sample - loss: 0.5337 - accuracy: 0.7417\nEpoch 131/250\n25724/25724 [==============================] - 2s 69us/sample - loss: 0.5339 - accuracy: 0.7411\nEpoch 132/250\n25724/25724 [==============================] - 2s 69us/sample - loss: 0.5338 - accuracy: 0.7408\nEpoch 133/250\n25724/25724 [==============================] - 2s 69us/sample - loss: 0.5337 - accuracy: 0.7410\nEpoch 134/250\n25724/25724 [==============================] - 2s 68us/sample - loss: 0.5336 - accuracy: 0.7411\nEpoch 135/250\n25724/25724 [==============================] - 2s 66us/sample - loss: 0.5335 - accuracy: 0.7407\nEpoch 136/250\n25724/25724 [==============================] - 2s 64us/sample - loss: 0.5335 - accuracy: 0.7413\nEpoch 137/250\n25724/25724 [==============================] - 2s 64us/sample - loss: 0.5338 - accuracy: 0.7412\nEpoch 138/250\n25724/25724 [==============================] - 2s 67us/sample - loss: 0.5335 - accuracy: 0.7414\nEpoch 139/250\n25724/25724 [==============================] - 2s 66us/sample - loss: 0.5335 - accuracy: 0.7416\nEpoch 140/250\n25724/25724 [==============================] - 2s 67us/sample - loss: 0.5331 - accuracy: 0.7411\nEpoch 141/250\n25724/25724 [==============================] - 2s 69us/sample - loss: 0.5335 - accuracy: 0.7414\nEpoch 142/250\n25724/25724 [==============================] - 2s 69us/sample - loss: 0.5334 - accuracy: 0.7404\nEpoch 143/250\n25724/25724 [==============================] - 2s 69us/sample - loss: 0.5339 - accuracy: 0.7414\nEpoch 144/250\n25724/25724 [==============================] - 2s 70us/sample - loss: 0.5339 - accuracy: 0.7408\nEpoch 145/250\n25724/25724 [==============================] - 2s 70us/sample - loss: 0.5333 - accuracy: 0.7416\nEpoch 146/250\n25724/25724 [==============================] - 2s 69us/sample - loss: 0.5332 - accuracy: 0.7413\nEpoch 147/250\n25724/25724 [==============================] - 2s 68us/sample - loss: 0.5334 - accuracy: 0.7417\nEpoch 148/250\n25724/25724 [==============================] - 2s 67us/sample - loss: 0.5333 - accuracy: 0.7397\nEpoch 149/250\n25724/25724 [==============================] - 2s 67us/sample - loss: 0.5332 - accuracy: 0.7410\nEpoch 150/250\n25724/25724 [==============================] - 2s 68us/sample - loss: 0.5329 - accuracy: 0.7416\nEpoch 151/250\n25724/25724 [==============================] - 2s 65us/sample - loss: 0.5333 - accuracy: 0.7409\nEpoch 152/250\n25724/25724 [==============================] - 2s 65us/sample - loss: 0.5329 - accuracy: 0.7415\nEpoch 153/250\n25724/25724 [==============================] - 2s 65us/sample - loss: 0.5330 - accuracy: 0.7418\nEpoch 154/250\n25724/25724 [==============================] - 2s 67us/sample - loss: 0.5332 - accuracy: 0.7408\nEpoch 155/250\n25724/25724 [==============================] - 2s 69us/sample - loss: 0.5329 - accuracy: 0.7414\nEpoch 156/250\n25724/25724 [==============================] - 2s 70us/sample - loss: 0.5331 - accuracy: 0.7410\nEpoch 157/250\n25724/25724 [==============================] - 2s 70us/sample - loss: 0.5330 - accuracy: 0.7405\nEpoch 158/250\n25724/25724 [==============================] - 2s 73us/sample - loss: 0.5330 - accuracy: 0.7412\nEpoch 159/250\n25724/25724 [==============================] - 2s 70us/sample - loss: 0.5325 - accuracy: 0.7422\nEpoch 160/250\n25724/25724 [==============================] - 2s 70us/sample - loss: 0.5327 - accuracy: 0.7421\nEpoch 161/250\n25724/25724 [==============================] - 2s 70us/sample - loss: 0.5332 - accuracy: 0.7413\nEpoch 162/250\n25724/25724 [==============================] - 2s 67us/sample - loss: 0.5329 - accuracy: 0.7417\nEpoch 163/250\n25724/25724 [==============================] - 2s 68us/sample - loss: 0.5328 - accuracy: 0.7414\nEpoch 164/250\n25724/25724 [==============================] - 2s 67us/sample - loss: 0.5331 - accuracy: 0.7416\nEpoch 165/250\n25724/25724 [==============================] - 2s 69us/sample - loss: 0.5328 - accuracy: 0.7419\nEpoch 166/250\n25724/25724 [==============================] - 2s 68us/sample - loss: 0.5328 - accuracy: 0.7424\nEpoch 167/250\n25724/25724 [==============================] - 2s 67us/sample - loss: 0.5328 - accuracy: 0.7417\nEpoch 168/250\n25724/25724 [==============================] - 2s 67us/sample - loss: 0.5328 - accuracy: 0.7418\nEpoch 169/250\n25724/25724 [==============================] - 2s 65us/sample - loss: 0.5327 - accuracy: 0.7425\nEpoch 170/250\n25724/25724 [==============================] - 2s 66us/sample - loss: 0.5326 - accuracy: 0.7411\nEpoch 171/250\n25724/25724 [==============================] - 2s 67us/sample - loss: 0.5328 - accuracy: 0.7419\nEpoch 172/250\n25724/25724 [==============================] - 2s 68us/sample - loss: 0.5323 - accuracy: 0.7414\nEpoch 173/250\n25724/25724 [==============================] - 2s 68us/sample - loss: 0.5326 - accuracy: 0.7419\nEpoch 174/250\n25724/25724 [==============================] - 2s 66us/sample - loss: 0.5329 - accuracy: 0.7411\nEpoch 175/250\n25724/25724 [==============================] - 2s 70us/sample - loss: 0.5328 - accuracy: 0.7410\nEpoch 176/250\n25724/25724 [==============================] - 2s 70us/sample - loss: 0.5322 - accuracy: 0.7415\nEpoch 177/250\n25724/25724 [==============================] - 2s 69us/sample - loss: 0.5334 - accuracy: 0.7418\nEpoch 178/250\n25724/25724 [==============================] - 2s 71us/sample - loss: 0.5327 - accuracy: 0.7421\nEpoch 179/250\n25724/25724 [==============================] - 2s 71us/sample - loss: 0.5325 - accuracy: 0.7404\nEpoch 180/250\n25724/25724 [==============================] - 2s 68us/sample - loss: 0.5324 - accuracy: 0.7418\nEpoch 181/250\n25724/25724 [==============================] - 2s 68us/sample - loss: 0.5323 - accuracy: 0.7416\nEpoch 182/250\n25724/25724 [==============================] - 2s 66us/sample - loss: 0.5337 - accuracy: 0.7411\nEpoch 183/250\n25724/25724 [==============================] - 2s 66us/sample - loss: 0.5326 - accuracy: 0.7418\nEpoch 184/250\n25724/25724 [==============================] - 2s 66us/sample - loss: 0.5325 - accuracy: 0.7417\nEpoch 185/250\n25724/25724 [==============================] - 2s 65us/sample - loss: 0.5326 - accuracy: 0.7421\nEpoch 186/250\n25724/25724 [==============================] - 2s 68us/sample - loss: 0.5325 - accuracy: 0.7426\nEpoch 187/250\n25724/25724 [==============================] - 2s 67us/sample - loss: 0.5326 - accuracy: 0.7412\nEpoch 188/250\n25724/25724 [==============================] - 2s 69us/sample - loss: 0.5325 - accuracy: 0.7424\nEpoch 189/250\n25724/25724 [==============================] - 2s 69us/sample - loss: 0.5323 - accuracy: 0.7414\nEpoch 190/250\n25724/25724 [==============================] - 2s 69us/sample - loss: 0.5321 - accuracy: 0.7421\nEpoch 191/250\n25724/25724 [==============================] - 2s 71us/sample - loss: 0.5329 - accuracy: 0.7416\nEpoch 192/250\n25724/25724 [==============================] - 2s 69us/sample - loss: 0.5323 - accuracy: 0.7410\nEpoch 193/250\n25724/25724 [==============================] - 2s 70us/sample - loss: 0.5323 - accuracy: 0.7429\nEpoch 194/250\n25724/25724 [==============================] - 2s 71us/sample - loss: 0.5320 - accuracy: 0.7414\nEpoch 195/250\n25724/25724 [==============================] - 2s 67us/sample - loss: 0.5320 - accuracy: 0.7424\nEpoch 196/250\n25724/25724 [==============================] - 2s 69us/sample - loss: 0.5321 - accuracy: 0.7420\nEpoch 197/250\n25724/25724 [==============================] - 2s 68us/sample - loss: 0.5322 - accuracy: 0.7418\nEpoch 198/250\n25724/25724 [==============================] - 2s 67us/sample - loss: 0.5321 - accuracy: 0.7424\nEpoch 199/250\n25724/25724 [==============================] - 2s 67us/sample - loss: 0.5325 - accuracy: 0.7414\nEpoch 200/250\n25724/25724 [==============================] - 2s 67us/sample - loss: 0.5327 - accuracy: 0.7419\nEpoch 201/250\n25724/25724 [==============================] - 2s 68us/sample - loss: 0.5321 - accuracy: 0.7425\nEpoch 202/250\n25724/25724 [==============================] - 2s 67us/sample - loss: 0.5319 - accuracy: 0.7418\nEpoch 203/250\n25724/25724 [==============================] - 2s 67us/sample - loss: 0.5319 - accuracy: 0.7423\nEpoch 204/250\n25724/25724 [==============================] - 2s 67us/sample - loss: 0.5328 - accuracy: 0.7416\nEpoch 205/250\n25724/25724 [==============================] - 2s 67us/sample - loss: 0.5322 - accuracy: 0.7427\nEpoch 206/250\n25724/25724 [==============================] - 2s 68us/sample - loss: 0.5323 - accuracy: 0.7422\nEpoch 207/250\n25724/25724 [==============================] - 2s 67us/sample - loss: 0.5318 - accuracy: 0.7418\nEpoch 208/250\n25724/25724 [==============================] - 2s 71us/sample - loss: 0.5321 - accuracy: 0.7419\nEpoch 209/250\n25724/25724 [==============================] - 2s 69us/sample - loss: 0.5319 - accuracy: 0.7426\nEpoch 210/250\n25724/25724 [==============================] - 2s 69us/sample - loss: 0.5320 - accuracy: 0.7414\nEpoch 211/250\n25724/25724 [==============================] - 2s 70us/sample - loss: 0.5317 - accuracy: 0.7423\nEpoch 212/250\n25724/25724 [==============================] - 2s 70us/sample - loss: 0.5318 - accuracy: 0.7419\nEpoch 213/250\n25724/25724 [==============================] - 2s 70us/sample - loss: 0.5322 - accuracy: 0.7424\nEpoch 214/250\n25724/25724 [==============================] - 2s 66us/sample - loss: 0.5323 - accuracy: 0.7416\nEpoch 215/250\n25724/25724 [==============================] - 2s 68us/sample - loss: 0.5320 - accuracy: 0.7422\nEpoch 216/250\n25724/25724 [==============================] - 2s 67us/sample - loss: 0.5319 - accuracy: 0.7425\nEpoch 217/250\n25724/25724 [==============================] - 2s 67us/sample - loss: 0.5316 - accuracy: 0.7420\nEpoch 218/250\n25724/25724 [==============================] - 2s 67us/sample - loss: 0.5320 - accuracy: 0.7421\nEpoch 219/250\n25724/25724 [==============================] - 2s 67us/sample - loss: 0.5316 - accuracy: 0.7421\nEpoch 220/250\n25724/25724 [==============================] - 2s 68us/sample - loss: 0.5318 - accuracy: 0.7416\nEpoch 221/250\n25724/25724 [==============================] - 2s 67us/sample - loss: 0.5315 - accuracy: 0.7419\nEpoch 222/250\n25724/25724 [==============================] - 3s 99us/sample - loss: 0.5321 - accuracy: 0.7413\nEpoch 223/250\n25724/25724 [==============================] - 2s 76us/sample - loss: 0.5322 - accuracy: 0.7419\nEpoch 224/250\n25724/25724 [==============================] - 2s 74us/sample - loss: 0.5317 - accuracy: 0.7422\nEpoch 225/250\n25724/25724 [==============================] - 2s 72us/sample - loss: 0.5316 - accuracy: 0.7421\nEpoch 226/250\n25724/25724 [==============================] - 2s 72us/sample - loss: 0.5322 - accuracy: 0.7423\nEpoch 227/250\n25724/25724 [==============================] - 2s 70us/sample - loss: 0.5320 - accuracy: 0.7417\nEpoch 228/250\n25724/25724 [==============================] - 2s 67us/sample - loss: 0.5317 - accuracy: 0.7425\nEpoch 229/250\n25724/25724 [==============================] - 2s 66us/sample - loss: 0.5315 - accuracy: 0.7417\nEpoch 230/250\n25724/25724 [==============================] - 2s 67us/sample - loss: 0.5312 - accuracy: 0.7429\nEpoch 231/250\n25724/25724 [==============================] - 2s 65us/sample - loss: 0.5318 - accuracy: 0.7417\nEpoch 232/250\n25724/25724 [==============================] - 2s 64us/sample - loss: 0.5317 - accuracy: 0.7423\nEpoch 233/250\n25724/25724 [==============================] - 2s 67us/sample - loss: 0.5314 - accuracy: 0.7430\nEpoch 234/250\n25724/25724 [==============================] - 2s 67us/sample - loss: 0.5319 - accuracy: 0.7416\nEpoch 235/250\n25724/25724 [==============================] - 2s 69us/sample - loss: 0.5316 - accuracy: 0.7423\nEpoch 236/250\n25724/25724 [==============================] - 2s 77us/sample - loss: 0.5314 - accuracy: 0.7421\nEpoch 237/250\n25724/25724 [==============================] - 2s 71us/sample - loss: 0.5317 - accuracy: 0.7415\nEpoch 238/250\n25724/25724 [==============================] - 2s 72us/sample - loss: 0.5314 - accuracy: 0.7422\nEpoch 239/250\n25724/25724 [==============================] - 2s 72us/sample - loss: 0.5315 - accuracy: 0.7428\nEpoch 240/250\n25724/25724 [==============================] - 2s 69us/sample - loss: 0.5319 - accuracy: 0.7423\nEpoch 241/250\n25724/25724 [==============================] - 2s 68us/sample - loss: 0.5313 - accuracy: 0.7422\nEpoch 242/250\n25724/25724 [==============================] - 2s 68us/sample - loss: 0.5311 - accuracy: 0.7423\nEpoch 243/250\n25724/25724 [==============================] - 2s 67us/sample - loss: 0.5315 - accuracy: 0.7421\nEpoch 244/250\n25724/25724 [==============================] - 2s 67us/sample - loss: 0.5315 - accuracy: 0.7422\nEpoch 245/250\n25724/25724 [==============================] - 2s 68us/sample - loss: 0.5313 - accuracy: 0.7417\nEpoch 246/250\n25724/25724 [==============================] - 2s 67us/sample - loss: 0.5315 - accuracy: 0.7417\nEpoch 247/250\n25724/25724 [==============================] - 2s 66us/sample - loss: 0.5314 - accuracy: 0.7426\nEpoch 248/250\n25724/25724 [==============================] - 2s 68us/sample - loss: 0.5311 - accuracy: 0.7426\nEpoch 249/250\n25724/25724 [==============================] - 2s 67us/sample - loss: 0.5313 - accuracy: 0.7427\nEpoch 250/250\n25724/25724 [==============================] - 2s 70us/sample - loss: 0.5312 - accuracy: 0.7424\n8575/1 - 1s - loss: 0.5966 - accuracy: 0.7245\nLoss: 0.5693587794595835, Accuracy: 0.7245481014251709\n"
    }
   ],
   "source": [
    "# Train the model\n",
    "fit_model = nn.fit(X_train_scaled, y_train, epochs=250)\n",
    "\n",
    "# Evaluate the model using the test data\n",
    "model_loss, model_accuracy = nn.evaluate(X_test_scaled,y_test,verbose=2)\n",
    "print(f\"Loss: {model_loss}, Accuracy: {model_accuracy}\")"
   ]
  },
  {
   "cell_type": "code",
   "execution_count": null,
   "metadata": {},
   "outputs": [],
   "source": []
  }
 ],
 "metadata": {
  "kernelspec": {
   "display_name": "PythonData1",
   "language": "python",
   "name": "hannah-pythondata1"
  },
  "language_info": {
   "codemirror_mode": {
    "name": "ipython",
    "version": 3
   },
   "file_extension": ".py",
   "mimetype": "text/x-python",
   "name": "python",
   "nbconvert_exporter": "python",
   "pygments_lexer": "ipython3",
   "version": "3.7.7-final"
  }
 },
 "nbformat": 4,
 "nbformat_minor": 4
}