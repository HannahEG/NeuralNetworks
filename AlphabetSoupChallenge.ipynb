{
 "cells": [
  {
   "cell_type": "code",
   "execution_count": 1,
   "metadata": {},
   "outputs": [
    {
     "output_type": "execute_result",
     "data": {
      "text/plain": "        EIN                                      NAME APPLICATION_TYPE  \\\n0  10520599              BLUE KNIGHTS MOTORCYCLE CLUB              T10   \n1  10531628    AMERICAN CHESAPEAKE CLUB CHARITABLE TR               T3   \n2  10547893        ST CLOUD PROFESSIONAL FIREFIGHTERS               T5   \n3  10553066            SOUTHSIDE ATHLETIC ASSOCIATION               T3   \n4  10556103  GENETIC RESEARCH INSTITUTE OF THE DESERT               T3   \n\n        AFFILIATION CLASSIFICATION      USE_CASE  ORGANIZATION  STATUS  \\\n0       Independent          C1000    ProductDev   Association       1   \n1       Independent          C2000  Preservation  Co-operative       1   \n2  CompanySponsored          C3000    ProductDev   Association       1   \n3  CompanySponsored          C2000  Preservation         Trust       1   \n4       Independent          C1000     Heathcare         Trust       1   \n\n      INCOME_AMT SPECIAL_CONSIDERATIONS  ASK_AMT  IS_SUCCESSFUL  \n0              0                      N     5000              1  \n1         1-9999                      N   108590              1  \n2              0                      N     5000              0  \n3    10000-24999                      N     6692              1  \n4  100000-499999                      N   142590              1  ",
      "text/html": "<div>\n<style scoped>\n    .dataframe tbody tr th:only-of-type {\n        vertical-align: middle;\n    }\n\n    .dataframe tbody tr th {\n        vertical-align: top;\n    }\n\n    .dataframe thead th {\n        text-align: right;\n    }\n</style>\n<table border=\"1\" class=\"dataframe\">\n  <thead>\n    <tr style=\"text-align: right;\">\n      <th></th>\n      <th>EIN</th>\n      <th>NAME</th>\n      <th>APPLICATION_TYPE</th>\n      <th>AFFILIATION</th>\n      <th>CLASSIFICATION</th>\n      <th>USE_CASE</th>\n      <th>ORGANIZATION</th>\n      <th>STATUS</th>\n      <th>INCOME_AMT</th>\n      <th>SPECIAL_CONSIDERATIONS</th>\n      <th>ASK_AMT</th>\n      <th>IS_SUCCESSFUL</th>\n    </tr>\n  </thead>\n  <tbody>\n    <tr>\n      <th>0</th>\n      <td>10520599</td>\n      <td>BLUE KNIGHTS MOTORCYCLE CLUB</td>\n      <td>T10</td>\n      <td>Independent</td>\n      <td>C1000</td>\n      <td>ProductDev</td>\n      <td>Association</td>\n      <td>1</td>\n      <td>0</td>\n      <td>N</td>\n      <td>5000</td>\n      <td>1</td>\n    </tr>\n    <tr>\n      <th>1</th>\n      <td>10531628</td>\n      <td>AMERICAN CHESAPEAKE CLUB CHARITABLE TR</td>\n      <td>T3</td>\n      <td>Independent</td>\n      <td>C2000</td>\n      <td>Preservation</td>\n      <td>Co-operative</td>\n      <td>1</td>\n      <td>1-9999</td>\n      <td>N</td>\n      <td>108590</td>\n      <td>1</td>\n    </tr>\n    <tr>\n      <th>2</th>\n      <td>10547893</td>\n      <td>ST CLOUD PROFESSIONAL FIREFIGHTERS</td>\n      <td>T5</td>\n      <td>CompanySponsored</td>\n      <td>C3000</td>\n      <td>ProductDev</td>\n      <td>Association</td>\n      <td>1</td>\n      <td>0</td>\n      <td>N</td>\n      <td>5000</td>\n      <td>0</td>\n    </tr>\n    <tr>\n      <th>3</th>\n      <td>10553066</td>\n      <td>SOUTHSIDE ATHLETIC ASSOCIATION</td>\n      <td>T3</td>\n      <td>CompanySponsored</td>\n      <td>C2000</td>\n      <td>Preservation</td>\n      <td>Trust</td>\n      <td>1</td>\n      <td>10000-24999</td>\n      <td>N</td>\n      <td>6692</td>\n      <td>1</td>\n    </tr>\n    <tr>\n      <th>4</th>\n      <td>10556103</td>\n      <td>GENETIC RESEARCH INSTITUTE OF THE DESERT</td>\n      <td>T3</td>\n      <td>Independent</td>\n      <td>C1000</td>\n      <td>Heathcare</td>\n      <td>Trust</td>\n      <td>1</td>\n      <td>100000-499999</td>\n      <td>N</td>\n      <td>142590</td>\n      <td>1</td>\n    </tr>\n  </tbody>\n</table>\n</div>"
     },
     "metadata": {},
     "execution_count": 1
    }
   ],
   "source": [
    "# Import our dependencies\n",
    "from sklearn.model_selection import train_test_split\n",
    "from sklearn.preprocessing import StandardScaler\n",
    "from sklearn.linear_model import LogisticRegression\n",
    "from sklearn.metrics import accuracy_score\n",
    "import pandas as pd\n",
    "import tensorflow as tf\n",
    "from sklearn.preprocessing import OneHotEncoder\n",
    "\n",
    "\n",
    "\n",
    "# Import our input dataset\n",
    "charities_df = pd.read_csv('charity_data.csv')\n",
    "charities_df.head()"
   ]
  },
  {
   "cell_type": "code",
   "execution_count": 2,
   "metadata": {},
   "outputs": [
    {
     "output_type": "execute_result",
     "data": {
      "text/plain": "34299"
     },
     "metadata": {},
     "execution_count": 2
    }
   ],
   "source": [
    "len(charities_df)"
   ]
  },
  {
   "cell_type": "code",
   "execution_count": 6,
   "metadata": {},
   "outputs": [],
   "source": [
    "# Make copy of dataframe and drop unnecessary columns\n",
    "charities = charities_df.copy()\n",
    "charities = charities.drop(columns=['EIN', 'NAME'])\n"
   ]
  },
  {
   "cell_type": "code",
   "execution_count": 7,
   "metadata": {},
   "outputs": [
    {
     "output_type": "execute_result",
     "data": {
      "text/plain": "      APPLICATION_TYPE       AFFILIATION CLASSIFICATION      USE_CASE  \\\n0                  T10       Independent          C1000    ProductDev   \n1                   T3       Independent          C2000  Preservation   \n2                   T5  CompanySponsored          C3000    ProductDev   \n3                   T3  CompanySponsored          C2000  Preservation   \n4                   T3       Independent          C1000     Heathcare   \n...                ...               ...            ...           ...   \n34294               T4       Independent          C1000    ProductDev   \n34295               T4  CompanySponsored          C3000    ProductDev   \n34296               T3  CompanySponsored          C2000  Preservation   \n34297               T5       Independent          C3000    ProductDev   \n34298               T3       Independent          C1000  Preservation   \n\n       ORGANIZATION  STATUS     INCOME_AMT SPECIAL_CONSIDERATIONS   ASK_AMT  \\\n0       Association       1              0                      N      5000   \n1      Co-operative       1         1-9999                      N    108590   \n2       Association       1              0                      N      5000   \n3             Trust       1    10000-24999                      N      6692   \n4             Trust       1  100000-499999                      N    142590   \n...             ...     ...            ...                    ...       ...   \n34294   Association       1              0                      N      5000   \n34295   Association       1              0                      N      5000   \n34296   Association       1              0                      N      5000   \n34297   Association       1              0                      N      5000   \n34298  Co-operative       1          1M-5M                      N  36500179   \n\n       IS_SUCCESSFUL  \n0                  1  \n1                  1  \n2                  0  \n3                  1  \n4                  1  \n...              ...  \n34294              0  \n34295              0  \n34296              0  \n34297              1  \n34298              0  \n\n[34299 rows x 10 columns]",
      "text/html": "<div>\n<style scoped>\n    .dataframe tbody tr th:only-of-type {\n        vertical-align: middle;\n    }\n\n    .dataframe tbody tr th {\n        vertical-align: top;\n    }\n\n    .dataframe thead th {\n        text-align: right;\n    }\n</style>\n<table border=\"1\" class=\"dataframe\">\n  <thead>\n    <tr style=\"text-align: right;\">\n      <th></th>\n      <th>APPLICATION_TYPE</th>\n      <th>AFFILIATION</th>\n      <th>CLASSIFICATION</th>\n      <th>USE_CASE</th>\n      <th>ORGANIZATION</th>\n      <th>STATUS</th>\n      <th>INCOME_AMT</th>\n      <th>SPECIAL_CONSIDERATIONS</th>\n      <th>ASK_AMT</th>\n      <th>IS_SUCCESSFUL</th>\n    </tr>\n  </thead>\n  <tbody>\n    <tr>\n      <th>0</th>\n      <td>T10</td>\n      <td>Independent</td>\n      <td>C1000</td>\n      <td>ProductDev</td>\n      <td>Association</td>\n      <td>1</td>\n      <td>0</td>\n      <td>N</td>\n      <td>5000</td>\n      <td>1</td>\n    </tr>\n    <tr>\n      <th>1</th>\n      <td>T3</td>\n      <td>Independent</td>\n      <td>C2000</td>\n      <td>Preservation</td>\n      <td>Co-operative</td>\n      <td>1</td>\n      <td>1-9999</td>\n      <td>N</td>\n      <td>108590</td>\n      <td>1</td>\n    </tr>\n    <tr>\n      <th>2</th>\n      <td>T5</td>\n      <td>CompanySponsored</td>\n      <td>C3000</td>\n      <td>ProductDev</td>\n      <td>Association</td>\n      <td>1</td>\n      <td>0</td>\n      <td>N</td>\n      <td>5000</td>\n      <td>0</td>\n    </tr>\n    <tr>\n      <th>3</th>\n      <td>T3</td>\n      <td>CompanySponsored</td>\n      <td>C2000</td>\n      <td>Preservation</td>\n      <td>Trust</td>\n      <td>1</td>\n      <td>10000-24999</td>\n      <td>N</td>\n      <td>6692</td>\n      <td>1</td>\n    </tr>\n    <tr>\n      <th>4</th>\n      <td>T3</td>\n      <td>Independent</td>\n      <td>C1000</td>\n      <td>Heathcare</td>\n      <td>Trust</td>\n      <td>1</td>\n      <td>100000-499999</td>\n      <td>N</td>\n      <td>142590</td>\n      <td>1</td>\n    </tr>\n    <tr>\n      <th>...</th>\n      <td>...</td>\n      <td>...</td>\n      <td>...</td>\n      <td>...</td>\n      <td>...</td>\n      <td>...</td>\n      <td>...</td>\n      <td>...</td>\n      <td>...</td>\n      <td>...</td>\n    </tr>\n    <tr>\n      <th>34294</th>\n      <td>T4</td>\n      <td>Independent</td>\n      <td>C1000</td>\n      <td>ProductDev</td>\n      <td>Association</td>\n      <td>1</td>\n      <td>0</td>\n      <td>N</td>\n      <td>5000</td>\n      <td>0</td>\n    </tr>\n    <tr>\n      <th>34295</th>\n      <td>T4</td>\n      <td>CompanySponsored</td>\n      <td>C3000</td>\n      <td>ProductDev</td>\n      <td>Association</td>\n      <td>1</td>\n      <td>0</td>\n      <td>N</td>\n      <td>5000</td>\n      <td>0</td>\n    </tr>\n    <tr>\n      <th>34296</th>\n      <td>T3</td>\n      <td>CompanySponsored</td>\n      <td>C2000</td>\n      <td>Preservation</td>\n      <td>Association</td>\n      <td>1</td>\n      <td>0</td>\n      <td>N</td>\n      <td>5000</td>\n      <td>0</td>\n    </tr>\n    <tr>\n      <th>34297</th>\n      <td>T5</td>\n      <td>Independent</td>\n      <td>C3000</td>\n      <td>ProductDev</td>\n      <td>Association</td>\n      <td>1</td>\n      <td>0</td>\n      <td>N</td>\n      <td>5000</td>\n      <td>1</td>\n    </tr>\n    <tr>\n      <th>34298</th>\n      <td>T3</td>\n      <td>Independent</td>\n      <td>C1000</td>\n      <td>Preservation</td>\n      <td>Co-operative</td>\n      <td>1</td>\n      <td>1M-5M</td>\n      <td>N</td>\n      <td>36500179</td>\n      <td>0</td>\n    </tr>\n  </tbody>\n</table>\n<p>34299 rows × 10 columns</p>\n</div>"
     },
     "metadata": {},
     "execution_count": 7
    }
   ],
   "source": [
    "charities"
   ]
  },
  {
   "cell_type": "code",
   "execution_count": 8,
   "metadata": {},
   "outputs": [
    {
     "output_type": "execute_result",
     "data": {
      "text/plain": "APPLICATION_TYPE          17\nAFFILIATION                6\nCLASSIFICATION            71\nUSE_CASE                   5\nORGANIZATION               4\nINCOME_AMT                 9\nSPECIAL_CONSIDERATIONS     2\ndtype: int64"
     },
     "metadata": {},
     "execution_count": 8
    }
   ],
   "source": [
    "# Generate our categorical variable list\n",
    "charities_cat = charities.dtypes[charities.dtypes == \"object\"].index.tolist()\n",
    "\n",
    "# Check the number of unique values in each column\n",
    "charities[charities_cat].nunique()"
   ]
  },
  {
   "cell_type": "code",
   "execution_count": 9,
   "metadata": {},
   "outputs": [
    {
     "output_type": "execute_result",
     "data": {
      "text/plain": "T3     27037\nT4      1542\nT6      1216\nT5      1173\nT19     1065\nT8       737\nT7       725\nT10      528\nT9       156\nT13       66\nT12       27\nT2        16\nT14        3\nT25        3\nT15        2\nT29        2\nT17        1\nName: APPLICATION_TYPE, dtype: int64"
     },
     "metadata": {},
     "execution_count": 9
    }
   ],
   "source": [
    "# Check the unique value counts to see if binning is required\n",
    "application_df = charities.APPLICATION_TYPE.value_counts()\n",
    "application_df"
   ]
  },
  {
   "cell_type": "code",
   "execution_count": 10,
   "metadata": {},
   "outputs": [
    {
     "output_type": "execute_result",
     "data": {
      "text/plain": "T3       27037\nT4        1542\nT6        1216\nT5        1173\nT19       1065\nT8         737\nT7         725\nT10        528\nT9         156\nOther      120\nName: APPLICATION_TYPE, dtype: int64"
     },
     "metadata": {},
     "execution_count": 10
    }
   ],
   "source": [
    "# Determine which values to replace\n",
    "replace_applicationtype = list(application_df[application_df < 100].index)\n",
    "\n",
    "# Replace in DataFrame\n",
    "for application in replace_applicationtype:\n",
    "    charities.APPLICATION_TYPE = charities.APPLICATION_TYPE.replace(application,\"Other\")\n",
    "\n",
    "\n",
    "# Check to make sure binning was successful\n",
    "charities.APPLICATION_TYPE.value_counts()"
   ]
  },
  {
   "cell_type": "code",
   "execution_count": 11,
   "metadata": {},
   "outputs": [
    {
     "output_type": "execute_result",
     "data": {
      "text/plain": "C1000    17326\nC2000     6074\nC1200     4837\nC3000     1918\nC2100     1883\nC7000      777\nC1700      287\nC4000      194\nC5000      116\nC1270      114\nC2700      104\nC2800       95\nC7100       75\nC1300       58\nC1280       50\nC1230       36\nC1400       34\nC7200       32\nC2300       32\nC1240       30\nC8000       20\nC7120       18\nC1500       16\nC6000       15\nC1800       15\nC1250       14\nC8200       11\nC1278       10\nC1238       10\nC1237        9\nC1235        9\nC7210        7\nC4100        6\nC1720        6\nC2400        6\nC1600        5\nC1257        5\nC1260        3\nC0           3\nC2710        3\nC1267        2\nC3200        2\nC1256        2\nC1234        2\nC1246        2\nC1248        1\nC1900        1\nC2570        1\nC6100        1\nC4120        1\nName: CLASSIFICATION, dtype: int64"
     },
     "metadata": {},
     "execution_count": 11
    }
   ],
   "source": [
    "# Check the unique value counts to see if binning is required\n",
    "classification_df = charities.CLASSIFICATION.value_counts()\n",
    "classification_df.head(50)"
   ]
  },
  {
   "cell_type": "code",
   "execution_count": 12,
   "metadata": {},
   "outputs": [
    {
     "output_type": "execute_result",
     "data": {
      "text/plain": "C1000    17326\nC2000     6074\nC1200     4837\nC3000     1918\nC2100     1883\nC7000      777\nOther      669\nC1700      287\nC4000      194\nC5000      116\nC1270      114\nC2700      104\nName: CLASSIFICATION, dtype: int64"
     },
     "metadata": {},
     "execution_count": 12
    }
   ],
   "source": [
    "# Determine which values to replace\n",
    "replace_classification = list(classification_df[classification_df < 100].index)\n",
    "\n",
    "# Replace in DataFrame\n",
    "for classifier in replace_classification:\n",
    "    charities.CLASSIFICATION = charities.CLASSIFICATION.replace(classifier,\"Other\")\n",
    "\n",
    "\n",
    "# Check to make sure binning was successful\n",
    "charities.CLASSIFICATION.value_counts()"
   ]
  },
  {
   "cell_type": "code",
   "execution_count": 13,
   "metadata": {},
   "outputs": [
    {
     "output_type": "execute_result",
     "data": {
      "text/plain": "   APPLICATION_TYPE_Other  APPLICATION_TYPE_T10  APPLICATION_TYPE_T19  \\\n0                     0.0                   1.0                   0.0   \n1                     0.0                   0.0                   0.0   \n2                     0.0                   0.0                   0.0   \n3                     0.0                   0.0                   0.0   \n4                     0.0                   0.0                   0.0   \n\n   APPLICATION_TYPE_T3  APPLICATION_TYPE_T4  APPLICATION_TYPE_T5  \\\n0                  0.0                  0.0                  0.0   \n1                  1.0                  0.0                  0.0   \n2                  0.0                  0.0                  1.0   \n3                  1.0                  0.0                  0.0   \n4                  1.0                  0.0                  0.0   \n\n   APPLICATION_TYPE_T6  APPLICATION_TYPE_T7  APPLICATION_TYPE_T8  \\\n0                  0.0                  0.0                  0.0   \n1                  0.0                  0.0                  0.0   \n2                  0.0                  0.0                  0.0   \n3                  0.0                  0.0                  0.0   \n4                  0.0                  0.0                  0.0   \n\n   APPLICATION_TYPE_T9  ...  INCOME_AMT_1-9999  INCOME_AMT_10000-24999  \\\n0                  0.0  ...                0.0                     0.0   \n1                  0.0  ...                1.0                     0.0   \n2                  0.0  ...                0.0                     0.0   \n3                  0.0  ...                0.0                     1.0   \n4                  0.0  ...                0.0                     0.0   \n\n   INCOME_AMT_100000-499999  INCOME_AMT_10M-50M  INCOME_AMT_1M-5M  \\\n0                       0.0                 0.0               0.0   \n1                       0.0                 0.0               0.0   \n2                       0.0                 0.0               0.0   \n3                       0.0                 0.0               0.0   \n4                       1.0                 0.0               0.0   \n\n   INCOME_AMT_25000-99999  INCOME_AMT_50M+  INCOME_AMT_5M-10M  \\\n0                     0.0              0.0                0.0   \n1                     0.0              0.0                0.0   \n2                     0.0              0.0                0.0   \n3                     0.0              0.0                0.0   \n4                     0.0              0.0                0.0   \n\n   SPECIAL_CONSIDERATIONS_N  SPECIAL_CONSIDERATIONS_Y  \n0                       1.0                       0.0  \n1                       1.0                       0.0  \n2                       1.0                       0.0  \n3                       1.0                       0.0  \n4                       1.0                       0.0  \n\n[5 rows x 48 columns]",
      "text/html": "<div>\n<style scoped>\n    .dataframe tbody tr th:only-of-type {\n        vertical-align: middle;\n    }\n\n    .dataframe tbody tr th {\n        vertical-align: top;\n    }\n\n    .dataframe thead th {\n        text-align: right;\n    }\n</style>\n<table border=\"1\" class=\"dataframe\">\n  <thead>\n    <tr style=\"text-align: right;\">\n      <th></th>\n      <th>APPLICATION_TYPE_Other</th>\n      <th>APPLICATION_TYPE_T10</th>\n      <th>APPLICATION_TYPE_T19</th>\n      <th>APPLICATION_TYPE_T3</th>\n      <th>APPLICATION_TYPE_T4</th>\n      <th>APPLICATION_TYPE_T5</th>\n      <th>APPLICATION_TYPE_T6</th>\n      <th>APPLICATION_TYPE_T7</th>\n      <th>APPLICATION_TYPE_T8</th>\n      <th>APPLICATION_TYPE_T9</th>\n      <th>...</th>\n      <th>INCOME_AMT_1-9999</th>\n      <th>INCOME_AMT_10000-24999</th>\n      <th>INCOME_AMT_100000-499999</th>\n      <th>INCOME_AMT_10M-50M</th>\n      <th>INCOME_AMT_1M-5M</th>\n      <th>INCOME_AMT_25000-99999</th>\n      <th>INCOME_AMT_50M+</th>\n      <th>INCOME_AMT_5M-10M</th>\n      <th>SPECIAL_CONSIDERATIONS_N</th>\n      <th>SPECIAL_CONSIDERATIONS_Y</th>\n    </tr>\n  </thead>\n  <tbody>\n    <tr>\n      <th>0</th>\n      <td>0.0</td>\n      <td>1.0</td>\n      <td>0.0</td>\n      <td>0.0</td>\n      <td>0.0</td>\n      <td>0.0</td>\n      <td>0.0</td>\n      <td>0.0</td>\n      <td>0.0</td>\n      <td>0.0</td>\n      <td>...</td>\n      <td>0.0</td>\n      <td>0.0</td>\n      <td>0.0</td>\n      <td>0.0</td>\n      <td>0.0</td>\n      <td>0.0</td>\n      <td>0.0</td>\n      <td>0.0</td>\n      <td>1.0</td>\n      <td>0.0</td>\n    </tr>\n    <tr>\n      <th>1</th>\n      <td>0.0</td>\n      <td>0.0</td>\n      <td>0.0</td>\n      <td>1.0</td>\n      <td>0.0</td>\n      <td>0.0</td>\n      <td>0.0</td>\n      <td>0.0</td>\n      <td>0.0</td>\n      <td>0.0</td>\n      <td>...</td>\n      <td>1.0</td>\n      <td>0.0</td>\n      <td>0.0</td>\n      <td>0.0</td>\n      <td>0.0</td>\n      <td>0.0</td>\n      <td>0.0</td>\n      <td>0.0</td>\n      <td>1.0</td>\n      <td>0.0</td>\n    </tr>\n    <tr>\n      <th>2</th>\n      <td>0.0</td>\n      <td>0.0</td>\n      <td>0.0</td>\n      <td>0.0</td>\n      <td>0.0</td>\n      <td>1.0</td>\n      <td>0.0</td>\n      <td>0.0</td>\n      <td>0.0</td>\n      <td>0.0</td>\n      <td>...</td>\n      <td>0.0</td>\n      <td>0.0</td>\n      <td>0.0</td>\n      <td>0.0</td>\n      <td>0.0</td>\n      <td>0.0</td>\n      <td>0.0</td>\n      <td>0.0</td>\n      <td>1.0</td>\n      <td>0.0</td>\n    </tr>\n    <tr>\n      <th>3</th>\n      <td>0.0</td>\n      <td>0.0</td>\n      <td>0.0</td>\n      <td>1.0</td>\n      <td>0.0</td>\n      <td>0.0</td>\n      <td>0.0</td>\n      <td>0.0</td>\n      <td>0.0</td>\n      <td>0.0</td>\n      <td>...</td>\n      <td>0.0</td>\n      <td>1.0</td>\n      <td>0.0</td>\n      <td>0.0</td>\n      <td>0.0</td>\n      <td>0.0</td>\n      <td>0.0</td>\n      <td>0.0</td>\n      <td>1.0</td>\n      <td>0.0</td>\n    </tr>\n    <tr>\n      <th>4</th>\n      <td>0.0</td>\n      <td>0.0</td>\n      <td>0.0</td>\n      <td>1.0</td>\n      <td>0.0</td>\n      <td>0.0</td>\n      <td>0.0</td>\n      <td>0.0</td>\n      <td>0.0</td>\n      <td>0.0</td>\n      <td>...</td>\n      <td>0.0</td>\n      <td>0.0</td>\n      <td>1.0</td>\n      <td>0.0</td>\n      <td>0.0</td>\n      <td>0.0</td>\n      <td>0.0</td>\n      <td>0.0</td>\n      <td>1.0</td>\n      <td>0.0</td>\n    </tr>\n  </tbody>\n</table>\n<p>5 rows × 48 columns</p>\n</div>"
     },
     "metadata": {},
     "execution_count": 13
    }
   ],
   "source": [
    "# Create a OneHotEncoder instance\n",
    "enc = OneHotEncoder(sparse=False)\n",
    "\n",
    "# Fit and transform the OneHotEncoder using the categorical variable list\n",
    "encode_df = pd.DataFrame(enc.fit_transform(charities[charities_cat]))\n",
    "\n",
    "# Add the encoded variable names to the DataFrame\n",
    "encode_df.columns = enc.get_feature_names(charities_cat)\n",
    "encode_df.head()"
   ]
  },
  {
   "cell_type": "code",
   "execution_count": 14,
   "metadata": {},
   "outputs": [
    {
     "output_type": "execute_result",
     "data": {
      "text/plain": "34299"
     },
     "metadata": {},
     "execution_count": 14
    }
   ],
   "source": [
    "len(encode_df)"
   ]
  },
  {
   "cell_type": "code",
   "execution_count": 15,
   "metadata": {},
   "outputs": [
    {
     "output_type": "execute_result",
     "data": {
      "text/plain": "   STATUS  ASK_AMT  IS_SUCCESSFUL  APPLICATION_TYPE_Other  \\\n0       1     5000              1                     0.0   \n1       1   108590              1                     0.0   \n2       1     5000              0                     0.0   \n3       1     6692              1                     0.0   \n4       1   142590              1                     0.0   \n\n   APPLICATION_TYPE_T10  APPLICATION_TYPE_T19  APPLICATION_TYPE_T3  \\\n0                   1.0                   0.0                  0.0   \n1                   0.0                   0.0                  1.0   \n2                   0.0                   0.0                  0.0   \n3                   0.0                   0.0                  1.0   \n4                   0.0                   0.0                  1.0   \n\n   APPLICATION_TYPE_T4  APPLICATION_TYPE_T5  APPLICATION_TYPE_T6  ...  \\\n0                  0.0                  0.0                  0.0  ...   \n1                  0.0                  0.0                  0.0  ...   \n2                  0.0                  1.0                  0.0  ...   \n3                  0.0                  0.0                  0.0  ...   \n4                  0.0                  0.0                  0.0  ...   \n\n   INCOME_AMT_1-9999  INCOME_AMT_10000-24999  INCOME_AMT_100000-499999  \\\n0                0.0                     0.0                       0.0   \n1                1.0                     0.0                       0.0   \n2                0.0                     0.0                       0.0   \n3                0.0                     1.0                       0.0   \n4                0.0                     0.0                       1.0   \n\n   INCOME_AMT_10M-50M  INCOME_AMT_1M-5M  INCOME_AMT_25000-99999  \\\n0                 0.0               0.0                     0.0   \n1                 0.0               0.0                     0.0   \n2                 0.0               0.0                     0.0   \n3                 0.0               0.0                     0.0   \n4                 0.0               0.0                     0.0   \n\n   INCOME_AMT_50M+  INCOME_AMT_5M-10M  SPECIAL_CONSIDERATIONS_N  \\\n0              0.0                0.0                       1.0   \n1              0.0                0.0                       1.0   \n2              0.0                0.0                       1.0   \n3              0.0                0.0                       1.0   \n4              0.0                0.0                       1.0   \n\n   SPECIAL_CONSIDERATIONS_Y  \n0                       0.0  \n1                       0.0  \n2                       0.0  \n3                       0.0  \n4                       0.0  \n\n[5 rows x 51 columns]",
      "text/html": "<div>\n<style scoped>\n    .dataframe tbody tr th:only-of-type {\n        vertical-align: middle;\n    }\n\n    .dataframe tbody tr th {\n        vertical-align: top;\n    }\n\n    .dataframe thead th {\n        text-align: right;\n    }\n</style>\n<table border=\"1\" class=\"dataframe\">\n  <thead>\n    <tr style=\"text-align: right;\">\n      <th></th>\n      <th>STATUS</th>\n      <th>ASK_AMT</th>\n      <th>IS_SUCCESSFUL</th>\n      <th>APPLICATION_TYPE_Other</th>\n      <th>APPLICATION_TYPE_T10</th>\n      <th>APPLICATION_TYPE_T19</th>\n      <th>APPLICATION_TYPE_T3</th>\n      <th>APPLICATION_TYPE_T4</th>\n      <th>APPLICATION_TYPE_T5</th>\n      <th>APPLICATION_TYPE_T6</th>\n      <th>...</th>\n      <th>INCOME_AMT_1-9999</th>\n      <th>INCOME_AMT_10000-24999</th>\n      <th>INCOME_AMT_100000-499999</th>\n      <th>INCOME_AMT_10M-50M</th>\n      <th>INCOME_AMT_1M-5M</th>\n      <th>INCOME_AMT_25000-99999</th>\n      <th>INCOME_AMT_50M+</th>\n      <th>INCOME_AMT_5M-10M</th>\n      <th>SPECIAL_CONSIDERATIONS_N</th>\n      <th>SPECIAL_CONSIDERATIONS_Y</th>\n    </tr>\n  </thead>\n  <tbody>\n    <tr>\n      <th>0</th>\n      <td>1</td>\n      <td>5000</td>\n      <td>1</td>\n      <td>0.0</td>\n      <td>1.0</td>\n      <td>0.0</td>\n      <td>0.0</td>\n      <td>0.0</td>\n      <td>0.0</td>\n      <td>0.0</td>\n      <td>...</td>\n      <td>0.0</td>\n      <td>0.0</td>\n      <td>0.0</td>\n      <td>0.0</td>\n      <td>0.0</td>\n      <td>0.0</td>\n      <td>0.0</td>\n      <td>0.0</td>\n      <td>1.0</td>\n      <td>0.0</td>\n    </tr>\n    <tr>\n      <th>1</th>\n      <td>1</td>\n      <td>108590</td>\n      <td>1</td>\n      <td>0.0</td>\n      <td>0.0</td>\n      <td>0.0</td>\n      <td>1.0</td>\n      <td>0.0</td>\n      <td>0.0</td>\n      <td>0.0</td>\n      <td>...</td>\n      <td>1.0</td>\n      <td>0.0</td>\n      <td>0.0</td>\n      <td>0.0</td>\n      <td>0.0</td>\n      <td>0.0</td>\n      <td>0.0</td>\n      <td>0.0</td>\n      <td>1.0</td>\n      <td>0.0</td>\n    </tr>\n    <tr>\n      <th>2</th>\n      <td>1</td>\n      <td>5000</td>\n      <td>0</td>\n      <td>0.0</td>\n      <td>0.0</td>\n      <td>0.0</td>\n      <td>0.0</td>\n      <td>0.0</td>\n      <td>1.0</td>\n      <td>0.0</td>\n      <td>...</td>\n      <td>0.0</td>\n      <td>0.0</td>\n      <td>0.0</td>\n      <td>0.0</td>\n      <td>0.0</td>\n      <td>0.0</td>\n      <td>0.0</td>\n      <td>0.0</td>\n      <td>1.0</td>\n      <td>0.0</td>\n    </tr>\n    <tr>\n      <th>3</th>\n      <td>1</td>\n      <td>6692</td>\n      <td>1</td>\n      <td>0.0</td>\n      <td>0.0</td>\n      <td>0.0</td>\n      <td>1.0</td>\n      <td>0.0</td>\n      <td>0.0</td>\n      <td>0.0</td>\n      <td>...</td>\n      <td>0.0</td>\n      <td>1.0</td>\n      <td>0.0</td>\n      <td>0.0</td>\n      <td>0.0</td>\n      <td>0.0</td>\n      <td>0.0</td>\n      <td>0.0</td>\n      <td>1.0</td>\n      <td>0.0</td>\n    </tr>\n    <tr>\n      <th>4</th>\n      <td>1</td>\n      <td>142590</td>\n      <td>1</td>\n      <td>0.0</td>\n      <td>0.0</td>\n      <td>0.0</td>\n      <td>1.0</td>\n      <td>0.0</td>\n      <td>0.0</td>\n      <td>0.0</td>\n      <td>...</td>\n      <td>0.0</td>\n      <td>0.0</td>\n      <td>1.0</td>\n      <td>0.0</td>\n      <td>0.0</td>\n      <td>0.0</td>\n      <td>0.0</td>\n      <td>0.0</td>\n      <td>1.0</td>\n      <td>0.0</td>\n    </tr>\n  </tbody>\n</table>\n<p>5 rows × 51 columns</p>\n</div>"
     },
     "metadata": {},
     "execution_count": 15
    }
   ],
   "source": [
    "# Merge one-hot encoded features and drop the originals\n",
    "charities = charities.merge(encode_df,left_index=True, right_index=True)\n",
    "charities = charities.drop(charities_cat,1)\n",
    "charities.head()"
   ]
  },
  {
   "cell_type": "code",
   "execution_count": 16,
   "metadata": {},
   "outputs": [],
   "source": [
    "# Remove successful status target from features data\n",
    "y = charities.IS_SUCCESSFUL\n",
    "X = charities.drop(columns=[\"IS_SUCCESSFUL\"])\n",
    "\n",
    "# Split training/test datasets\n",
    "X_train, X_test, y_train, y_test = train_test_split(X, y, random_state=42, stratify=y)\n",
    "\n",
    "# Create a StandardScaler instance\n",
    "scaler = StandardScaler()\n",
    "\n",
    "# Fit the StandardScaler\n",
    "X_scaler = scaler.fit(X_train)\n",
    "\n",
    "# Scale the data\n",
    "X_train_scaled = X_scaler.transform(X_train)\n",
    "X_test_scaled = X_scaler.transform(X_test)"
   ]
  },
  {
   "cell_type": "code",
   "execution_count": 17,
   "metadata": {},
   "outputs": [],
   "source": [
    "# Define the model - deep neural net\n",
    "number_input_features = len(X_train_scaled[0])\n",
    "hidden_nodes_layer1 =  49\n",
    "hidden_nodes_layer2 = 24\n",
    "\n",
    "nn = tf.keras.models.Sequential()\n",
    "\n",
    "# First hidden layer\n",
    "nn.add(\n",
    "    tf.keras.layers.Dense(units=hidden_nodes_layer1, input_dim=number_input_features, activation=\"relu\")\n",
    ")\n",
    "\n",
    "# Second hidden layer\n",
    "nn.add(tf.keras.layers.Dense(units=hidden_nodes_layer2, activation=\"relu\"))\n",
    "\n",
    "\n",
    "# Output layer\n",
    "nn.add(tf.keras.layers.Dense(units=1, activation=\"sigmoid\"))\n",
    "\n",
    "# Compile the Sequential model together and customize metrics\n",
    "nn.compile(loss=\"binary_crossentropy\", optimizer=\"adam\", metrics=[\"accuracy\"])"
   ]
  },
  {
   "cell_type": "code",
   "execution_count": 20,
   "metadata": {
    "tags": []
   },
   "outputs": [
    {
     "output_type": "stream",
     "name": "stdout",
     "text": "Model: \"sequential\"\n_________________________________________________________________\nLayer (type)                 Output Shape              Param #   \n=================================================================\ndense (Dense)                (None, 49)                2499      \n_________________________________________________________________\ndense_1 (Dense)              (None, 24)                1200      \n_________________________________________________________________\ndense_2 (Dense)              (None, 1)                 25        \n=================================================================\nTotal params: 3,724\nTrainable params: 3,724\nNon-trainable params: 0\n_________________________________________________________________\n"
    }
   ],
   "source": [
    "# Check the structure of the model\n",
    "nn.summary()"
   ]
  },
  {
   "cell_type": "code",
   "execution_count": 18,
   "metadata": {
    "tags": []
   },
   "outputs": [
    {
     "output_type": "stream",
     "name": "stdout",
     "text": "<class 'numpy.ndarray'> <class 'pandas.core.series.Series'> <class 'numpy.ndarray'> <class 'pandas.core.series.Series'>\n"
    }
   ],
   "source": [
    "# Check data types\n",
    "print(type(X_train_scaled),type(y_train),type(X_test_scaled),type(y_test))"
   ]
  },
  {
   "cell_type": "code",
   "execution_count": 19,
   "metadata": {},
   "outputs": [],
   "source": [
    "# Convert serires to ndarray\n",
    "import numpy as np \n",
    "\n",
    "y_train = np.array(y_train)\n",
    "y_test = np.array(y_test)"
   ]
  },
  {
   "cell_type": "code",
   "execution_count": 21,
   "metadata": {
    "tags": []
   },
   "outputs": [
    {
     "output_type": "stream",
     "name": "stdout",
     "text": "Train on 25724 samples\nEpoch 1/100\n25724/25724 [==============================] - 4s 140us/sample - loss: 0.5825 - accuracy: 0.7103\nEpoch 2/100\n25724/25724 [==============================] - 2s 76us/sample - loss: 0.5510 - accuracy: 0.7307\nEpoch 3/100\n25724/25724 [==============================] - 2s 78us/sample - loss: 0.5478 - accuracy: 0.7325\nEpoch 4/100\n25724/25724 [==============================] - 2s 95us/sample - loss: 0.5468 - accuracy: 0.7340\nEpoch 5/100\n25724/25724 [==============================] - 2s 89us/sample - loss: 0.5456 - accuracy: 0.7354\nEpoch 6/100\n25724/25724 [==============================] - 2s 86us/sample - loss: 0.5448 - accuracy: 0.7342\nEpoch 7/100\n25724/25724 [==============================] - 2s 86us/sample - loss: 0.5442 - accuracy: 0.7348\nEpoch 8/100\n25724/25724 [==============================] - 2s 85us/sample - loss: 0.5434 - accuracy: 0.7345\nEpoch 9/100\n25724/25724 [==============================] - 2s 87us/sample - loss: 0.5426 - accuracy: 0.7355\nEpoch 10/100\n25724/25724 [==============================] - 2s 87us/sample - loss: 0.5421 - accuracy: 0.7378\nEpoch 11/100\n25724/25724 [==============================] - 2s 84us/sample - loss: 0.5421 - accuracy: 0.7370\nEpoch 12/100\n25724/25724 [==============================] - 2s 88us/sample - loss: 0.5416 - accuracy: 0.7365\nEpoch 13/100\n25724/25724 [==============================] - 2s 85us/sample - loss: 0.5409 - accuracy: 0.7375\nEpoch 14/100\n25724/25724 [==============================] - 2s 86us/sample - loss: 0.5411 - accuracy: 0.7370\nEpoch 15/100\n25724/25724 [==============================] - 2s 87us/sample - loss: 0.5403 - accuracy: 0.7376\nEpoch 16/100\n25724/25724 [==============================] - 2s 91us/sample - loss: 0.5403 - accuracy: 0.7368\nEpoch 17/100\n25724/25724 [==============================] - 2s 88us/sample - loss: 0.5399 - accuracy: 0.7375\nEpoch 18/100\n25724/25724 [==============================] - 2s 85us/sample - loss: 0.5391 - accuracy: 0.7374\nEpoch 19/100\n25724/25724 [==============================] - 2s 90us/sample - loss: 0.5387 - accuracy: 0.7378\nEpoch 20/100\n25724/25724 [==============================] - 2s 90us/sample - loss: 0.5392 - accuracy: 0.7385\nEpoch 21/100\n25724/25724 [==============================] - 2s 91us/sample - loss: 0.5384 - accuracy: 0.7381\nEpoch 22/100\n25724/25724 [==============================] - 2s 88us/sample - loss: 0.5382 - accuracy: 0.7385\nEpoch 23/100\n25724/25724 [==============================] - 2s 91us/sample - loss: 0.5383 - accuracy: 0.7388\nEpoch 24/100\n25724/25724 [==============================] - 2s 91us/sample - loss: 0.5374 - accuracy: 0.7395\nEpoch 25/100\n25724/25724 [==============================] - 2s 89us/sample - loss: 0.5379 - accuracy: 0.7386\nEpoch 26/100\n25724/25724 [==============================] - 2s 90us/sample - loss: 0.5373 - accuracy: 0.7389\nEpoch 27/100\n25724/25724 [==============================] - 2s 89us/sample - loss: 0.5371 - accuracy: 0.7396\nEpoch 28/100\n25724/25724 [==============================] - 2s 93us/sample - loss: 0.5372 - accuracy: 0.7397\nEpoch 29/100\n25724/25724 [==============================] - 4s 141us/sample - loss: 0.5369 - accuracy: 0.7396\nEpoch 30/100\n25724/25724 [==============================] - 2s 93us/sample - loss: 0.5370 - accuracy: 0.7394\nEpoch 31/100\n25724/25724 [==============================] - 2s 88us/sample - loss: 0.5366 - accuracy: 0.7394\nEpoch 32/100\n25724/25724 [==============================] - 2s 86us/sample - loss: 0.5364 - accuracy: 0.7400\nEpoch 33/100\n25724/25724 [==============================] - 2s 86us/sample - loss: 0.5365 - accuracy: 0.7400\nEpoch 34/100\n25724/25724 [==============================] - 2s 85us/sample - loss: 0.5357 - accuracy: 0.7401\nEpoch 35/100\n25724/25724 [==============================] - 2s 87us/sample - loss: 0.5359 - accuracy: 0.7409\nEpoch 36/100\n25724/25724 [==============================] - 2s 87us/sample - loss: 0.5359 - accuracy: 0.7402\nEpoch 37/100\n25724/25724 [==============================] - 2s 89us/sample - loss: 0.5358 - accuracy: 0.7408\nEpoch 38/100\n25724/25724 [==============================] - 3s 116us/sample - loss: 0.5356 - accuracy: 0.7407\nEpoch 39/100\n25724/25724 [==============================] - 4s 138us/sample - loss: 0.5351 - accuracy: 0.7409\nEpoch 40/100\n25724/25724 [==============================] - 4s 148us/sample - loss: 0.5354 - accuracy: 0.7409\nEpoch 41/100\n25724/25724 [==============================] - 3s 132us/sample - loss: 0.5353 - accuracy: 0.7412\nEpoch 42/100\n25724/25724 [==============================] - 3s 100us/sample - loss: 0.5351 - accuracy: 0.7403\nEpoch 43/100\n25724/25724 [==============================] - 2s 89us/sample - loss: 0.5352 - accuracy: 0.7414\nEpoch 44/100\n25724/25724 [==============================] - 2s 87us/sample - loss: 0.5348 - accuracy: 0.7406\nEpoch 45/100\n25724/25724 [==============================] - 2s 87us/sample - loss: 0.5351 - accuracy: 0.7406\nEpoch 46/100\n25724/25724 [==============================] - 2s 96us/sample - loss: 0.5348 - accuracy: 0.7412\nEpoch 47/100\n25724/25724 [==============================] - 2s 97us/sample - loss: 0.5346 - accuracy: 0.7409\nEpoch 48/100\n25724/25724 [==============================] - 3s 103us/sample - loss: 0.5343 - accuracy: 0.7402\nEpoch 49/100\n25724/25724 [==============================] - 3s 107us/sample - loss: 0.5345 - accuracy: 0.7411\nEpoch 50/100\n25724/25724 [==============================] - 3s 108us/sample - loss: 0.5344 - accuracy: 0.7405\nEpoch 51/100\n25724/25724 [==============================] - 3s 99us/sample - loss: 0.5341 - accuracy: 0.7413\nEpoch 52/100\n25724/25724 [==============================] - 2s 93us/sample - loss: 0.5338 - accuracy: 0.7408\nEpoch 53/100\n25724/25724 [==============================] - 2s 89us/sample - loss: 0.5341 - accuracy: 0.7404\nEpoch 54/100\n25724/25724 [==============================] - 2s 90us/sample - loss: 0.5338 - accuracy: 0.7410\nEpoch 55/100\n25724/25724 [==============================] - 2s 93us/sample - loss: 0.5339 - accuracy: 0.7404\nEpoch 56/100\n25724/25724 [==============================] - 2s 90us/sample - loss: 0.5336 - accuracy: 0.7414\nEpoch 57/100\n25724/25724 [==============================] - 2s 91us/sample - loss: 0.5335 - accuracy: 0.7413\nEpoch 58/100\n25724/25724 [==============================] - 2s 93us/sample - loss: 0.5336 - accuracy: 0.7398\nEpoch 59/100\n25724/25724 [==============================] - 2s 96us/sample - loss: 0.5335 - accuracy: 0.7417\nEpoch 60/100\n25724/25724 [==============================] - 3s 97us/sample - loss: 0.5337 - accuracy: 0.7414\nEpoch 61/100\n25724/25724 [==============================] - 2s 96us/sample - loss: 0.5335 - accuracy: 0.7411\nEpoch 62/100\n25724/25724 [==============================] - 2s 93us/sample - loss: 0.5335 - accuracy: 0.7409\nEpoch 63/100\n25724/25724 [==============================] - 2s 92us/sample - loss: 0.5332 - accuracy: 0.7426\nEpoch 64/100\n25724/25724 [==============================] - 2s 93us/sample - loss: 0.5332 - accuracy: 0.7411\nEpoch 65/100\n25724/25724 [==============================] - 2s 91us/sample - loss: 0.5332 - accuracy: 0.7420\nEpoch 66/100\n25724/25724 [==============================] - 2s 90us/sample - loss: 0.5332 - accuracy: 0.7407\nEpoch 67/100\n25724/25724 [==============================] - 2s 94us/sample - loss: 0.5335 - accuracy: 0.7413\nEpoch 68/100\n25724/25724 [==============================] - 2s 93us/sample - loss: 0.5329 - accuracy: 0.7413\nEpoch 69/100\n25724/25724 [==============================] - 2s 93us/sample - loss: 0.5330 - accuracy: 0.7405\nEpoch 70/100\n25724/25724 [==============================] - 2s 94us/sample - loss: 0.5327 - accuracy: 0.7413\nEpoch 71/100\n25724/25724 [==============================] - 2s 93us/sample - loss: 0.5323 - accuracy: 0.7418\nEpoch 72/100\n25724/25724 [==============================] - 2s 92us/sample - loss: 0.5326 - accuracy: 0.7422\nEpoch 73/100\n25724/25724 [==============================] - 2s 91us/sample - loss: 0.5328 - accuracy: 0.7408\nEpoch 74/100\n25724/25724 [==============================] - 2s 90us/sample - loss: 0.5326 - accuracy: 0.7417\nEpoch 75/100\n25724/25724 [==============================] - 2s 87us/sample - loss: 0.5327 - accuracy: 0.7415\nEpoch 76/100\n25724/25724 [==============================] - 2s 91us/sample - loss: 0.5327 - accuracy: 0.7412\nEpoch 77/100\n25724/25724 [==============================] - 2s 92us/sample - loss: 0.5324 - accuracy: 0.7417\nEpoch 78/100\n25724/25724 [==============================] - 2s 94us/sample - loss: 0.5325 - accuracy: 0.7411\nEpoch 79/100\n25724/25724 [==============================] - 2s 94us/sample - loss: 0.5322 - accuracy: 0.7414\nEpoch 80/100\n25724/25724 [==============================] - 2s 95us/sample - loss: 0.5322 - accuracy: 0.7413\nEpoch 81/100\n25724/25724 [==============================] - 2s 93us/sample - loss: 0.5322 - accuracy: 0.7419\nEpoch 82/100\n25724/25724 [==============================] - 2s 94us/sample - loss: 0.5318 - accuracy: 0.7414\nEpoch 83/100\n25724/25724 [==============================] - 2s 90us/sample - loss: 0.5321 - accuracy: 0.7415\nEpoch 84/100\n25724/25724 [==============================] - 3s 105us/sample - loss: 0.5318 - accuracy: 0.7411\nEpoch 85/100\n25724/25724 [==============================] - 2s 88us/sample - loss: 0.5321 - accuracy: 0.7415\nEpoch 86/100\n25724/25724 [==============================] - 2s 88us/sample - loss: 0.5317 - accuracy: 0.7420\nEpoch 87/100\n25724/25724 [==============================] - 2s 90us/sample - loss: 0.5319 - accuracy: 0.7422\nEpoch 88/100\n25724/25724 [==============================] - 2s 94us/sample - loss: 0.5321 - accuracy: 0.7418\nEpoch 89/100\n25724/25724 [==============================] - 2s 93us/sample - loss: 0.5319 - accuracy: 0.7423\nEpoch 90/100\n25724/25724 [==============================] - 2s 94us/sample - loss: 0.5317 - accuracy: 0.7421\nEpoch 91/100\n25724/25724 [==============================] - 2s 94us/sample - loss: 0.5317 - accuracy: 0.7414\nEpoch 92/100\n25724/25724 [==============================] - 2s 94us/sample - loss: 0.5312 - accuracy: 0.7427\nEpoch 93/100\n25724/25724 [==============================] - 2s 92us/sample - loss: 0.5316 - accuracy: 0.7412\nEpoch 94/100\n25724/25724 [==============================] - 2s 91us/sample - loss: 0.5317 - accuracy: 0.7418\nEpoch 95/100\n25724/25724 [==============================] - 2s 88us/sample - loss: 0.5310 - accuracy: 0.7420\nEpoch 96/100\n25724/25724 [==============================] - 2s 89us/sample - loss: 0.5312 - accuracy: 0.7421\nEpoch 97/100\n25724/25724 [==============================] - 2s 91us/sample - loss: 0.5313 - accuracy: 0.7423\nEpoch 98/100\n25724/25724 [==============================] - 2s 95us/sample - loss: 0.5315 - accuracy: 0.7417\nEpoch 99/100\n25724/25724 [==============================] - 2s 94us/sample - loss: 0.5311 - accuracy: 0.7411\nEpoch 100/100\n25724/25724 [==============================] - 3s 98us/sample - loss: 0.5313 - accuracy: 0.7423\n8575/1 - 1s - loss: 0.5847 - accuracy: 0.7247\nLoss: 0.555261065751401, Accuracy: 0.7246647477149963\n"
    }
   ],
   "source": [
    "# Train the model\n",
    "fit_model = nn.fit(X_train_scaled, y_train, epochs=100)\n",
    "\n",
    "# Evaluate the model using the test data\n",
    "model_loss, model_accuracy = nn.evaluate(X_test_scaled,y_test,verbose=2)\n",
    "print(f\"Loss: {model_loss}, Accuracy: {model_accuracy}\")"
   ]
  },
  {
   "cell_type": "code",
   "execution_count": null,
   "metadata": {},
   "outputs": [],
   "source": []
  }
 ],
 "metadata": {
  "kernelspec": {
   "display_name": "PythonData1",
   "language": "python",
   "name": "hannah-pythondata1"
  },
  "language_info": {
   "codemirror_mode": {
    "name": "ipython",
    "version": 3
   },
   "file_extension": ".py",
   "mimetype": "text/x-python",
   "name": "python",
   "nbconvert_exporter": "python",
   "pygments_lexer": "ipython3",
   "version": "3.7.7-final"
  }
 },
 "nbformat": 4,
 "nbformat_minor": 4
}